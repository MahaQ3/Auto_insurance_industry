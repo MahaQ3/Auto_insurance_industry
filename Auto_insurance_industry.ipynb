{
  "nbformat": 4,
  "nbformat_minor": 0,
  "metadata": {
    "colab": {
      "name": "Auto insurance industry.ipynb",
      "provenance": [],
      "collapsed_sections": [],
      "toc_visible": true
    },
    "kernelspec": {
      "name": "python3",
      "display_name": "Python 3"
    },
    "language_info": {
      "name": "python"
    },
    "accelerator": "GPU"
  },
  "cells": [
    {
      "cell_type": "markdown",
      "metadata": {
        "id": "HNtx3MhbuDxN"
      },
      "source": [
        "#Auto Insurance Industry"
      ]
    },
    {
      "cell_type": "markdown",
      "metadata": {
        "id": "HdOzzerguWmz"
      },
      "source": [
        "## Aim of the Project\n"
      ]
    },
    {
      "cell_type": "markdown",
      "metadata": {
        "id": "deZU_dD9uNy5"
      },
      "source": [
        "The aim of the project is to build a Machine Learning\n",
        "Model to predict whether an owner will initiate an auto\n",
        "insurance claim in the next year."
      ]
    },
    {
      "cell_type": "markdown",
      "metadata": {
        "id": "RwG82oLruiQQ"
      },
      "source": [
        "## Background\n"
      ]
    },
    {
      "cell_type": "markdown",
      "metadata": {
        "id": "HTxe-3Ieub3z"
      },
      "source": [
        "The auto insurance industry is witnessing a paradigm shift. Since auto insurance company\n",
        "consists of homogenous good thereby making it difficult to differentiate product A from\n",
        "product B, also companies are fighting a price war (for insurance price). On top of that, the\n",
        "distribution channel is shifting more from traditional insurance brokers to online purchases,\n",
        "which means that the ability for companies to interact through human touchpoints is limited,\n",
        "and customers should be quoted at a reasonable price. A good price quote is one that makes\n",
        "the customer purchase the policy and helps the company to increase the profits.\n",
        "Also, the insurance premium is calculated based on more than 50+ parameters, which means\n",
        "that traditional business analytics-based algorithms are now limited in their ability to\n",
        "differentiate among customers based on subtle parameters."
      ]
    },
    {
      "cell_type": "markdown",
      "metadata": {
        "id": "yR1DqcXrutnU"
      },
      "source": [
        "## EDA "
      ]
    },
    {
      "cell_type": "markdown",
      "metadata": {
        "id": "6ZQYsRuqu_JV"
      },
      "source": [
        "### Import libraries"
      ]
    },
    {
      "cell_type": "code",
      "metadata": {
        "id": "PbX0TbCnQa_P"
      },
      "source": [
        "import pandas as pd \n",
        "import numpy as np \n",
        "import matplotlib.pyplot as plt \n",
        "import plotly.graph_objs as go\n",
        "import plotly.offline as py\n",
        "\n",
        "from sklearn.ensemble import RandomForestClassifier\n",
        "import seaborn as sns\n",
        "\n",
        "from sklearn.preprocessing import OneHotEncoder, StandardScaler\n",
        "from sklearn.feature_selection import VarianceThreshold\n",
        "from sklearn.model_selection import train_test_split\n",
        "from sklearn.linear_model import LogisticRegressionCV\n",
        "from sklearn.svm import LinearSVC,SVC\n",
        "from sklearn.metrics import accuracy_score,classification_report,confusion_matrix\n",
        "from xgboost import XGBClassifier\n",
        "# import xgboost as xgb\n",
        "from sklearn.ensemble import AdaBoostClassifier\n",
        "from sklearn.neural_network import MLPClassifier\n",
        "\n",
        "import warnings\n",
        "warnings.filterwarnings('ignore')"
      ],
      "execution_count": null,
      "outputs": []
    },
    {
      "cell_type": "markdown",
      "metadata": {
        "id": "i-ts96MvvLUD"
      },
      "source": [
        "### Load the data"
      ]
    },
    {
      "cell_type": "code",
      "metadata": {
        "id": "H1UPnbIXMD0y"
      },
      "source": [
        "data=pd.read_csv('/content/drive/MyDrive/insurance_industry.csv')"
      ],
      "execution_count": null,
      "outputs": []
    },
    {
      "cell_type": "code",
      "metadata": {
        "colab": {
          "base_uri": "https://localhost:8080/",
          "height": 226
        },
        "id": "w2B97RvtTWJT",
        "outputId": "0bbcc8af-0394-46ef-c134-7b5949569bfe"
      },
      "source": [
        "data.head()"
      ],
      "execution_count": null,
      "outputs": [
        {
          "output_type": "execute_result",
          "data": {
            "text/html": [
              "<div>\n",
              "<style scoped>\n",
              "    .dataframe tbody tr th:only-of-type {\n",
              "        vertical-align: middle;\n",
              "    }\n",
              "\n",
              "    .dataframe tbody tr th {\n",
              "        vertical-align: top;\n",
              "    }\n",
              "\n",
              "    .dataframe thead th {\n",
              "        text-align: right;\n",
              "    }\n",
              "</style>\n",
              "<table border=\"1\" class=\"dataframe\">\n",
              "  <thead>\n",
              "    <tr style=\"text-align: right;\">\n",
              "      <th></th>\n",
              "      <th>id</th>\n",
              "      <th>target</th>\n",
              "      <th>ps_ind_01</th>\n",
              "      <th>ps_ind_02_cat</th>\n",
              "      <th>ps_ind_03</th>\n",
              "      <th>ps_ind_04_cat</th>\n",
              "      <th>ps_ind_05_cat</th>\n",
              "      <th>ps_ind_06_bin</th>\n",
              "      <th>ps_ind_07_bin</th>\n",
              "      <th>ps_ind_08_bin</th>\n",
              "      <th>ps_ind_09_bin</th>\n",
              "      <th>ps_ind_10_bin</th>\n",
              "      <th>ps_ind_11_bin</th>\n",
              "      <th>ps_ind_12_bin</th>\n",
              "      <th>ps_ind_13_bin</th>\n",
              "      <th>ps_ind_14</th>\n",
              "      <th>ps_ind_15</th>\n",
              "      <th>ps_ind_16_bin</th>\n",
              "      <th>ps_ind_17_bin</th>\n",
              "      <th>ps_ind_18_bin</th>\n",
              "      <th>ps_reg_01</th>\n",
              "      <th>ps_reg_02</th>\n",
              "      <th>ps_reg_03</th>\n",
              "      <th>ps_car_01_cat</th>\n",
              "      <th>ps_car_02_cat</th>\n",
              "      <th>ps_car_03_cat</th>\n",
              "      <th>ps_car_04_cat</th>\n",
              "      <th>ps_car_05_cat</th>\n",
              "      <th>ps_car_06_cat</th>\n",
              "      <th>ps_car_07_cat</th>\n",
              "      <th>ps_car_08_cat</th>\n",
              "      <th>ps_car_09_cat</th>\n",
              "      <th>ps_car_10_cat</th>\n",
              "      <th>ps_car_11_cat</th>\n",
              "      <th>ps_car_11</th>\n",
              "      <th>ps_car_12</th>\n",
              "      <th>ps_car_13</th>\n",
              "      <th>ps_car_14</th>\n",
              "      <th>ps_car_15</th>\n",
              "      <th>ps_calc_01</th>\n",
              "      <th>ps_calc_02</th>\n",
              "      <th>ps_calc_03</th>\n",
              "      <th>ps_calc_04</th>\n",
              "      <th>ps_calc_05</th>\n",
              "      <th>ps_calc_06</th>\n",
              "      <th>ps_calc_07</th>\n",
              "      <th>ps_calc_08</th>\n",
              "      <th>ps_calc_09</th>\n",
              "      <th>ps_calc_10</th>\n",
              "      <th>ps_calc_11</th>\n",
              "      <th>ps_calc_12</th>\n",
              "      <th>ps_calc_13</th>\n",
              "      <th>ps_calc_14</th>\n",
              "      <th>ps_calc_15_bin</th>\n",
              "      <th>ps_calc_16_bin</th>\n",
              "      <th>ps_calc_17_bin</th>\n",
              "      <th>ps_calc_18_bin</th>\n",
              "      <th>ps_calc_19_bin</th>\n",
              "      <th>ps_calc_20_bin</th>\n",
              "    </tr>\n",
              "  </thead>\n",
              "  <tbody>\n",
              "    <tr>\n",
              "      <th>0</th>\n",
              "      <td>7</td>\n",
              "      <td>0</td>\n",
              "      <td>2</td>\n",
              "      <td>2</td>\n",
              "      <td>5</td>\n",
              "      <td>1</td>\n",
              "      <td>0</td>\n",
              "      <td>0</td>\n",
              "      <td>1</td>\n",
              "      <td>0</td>\n",
              "      <td>0</td>\n",
              "      <td>0</td>\n",
              "      <td>0</td>\n",
              "      <td>0</td>\n",
              "      <td>0</td>\n",
              "      <td>0</td>\n",
              "      <td>11</td>\n",
              "      <td>0</td>\n",
              "      <td>1</td>\n",
              "      <td>0</td>\n",
              "      <td>0.7</td>\n",
              "      <td>0.2</td>\n",
              "      <td>0.718070</td>\n",
              "      <td>10</td>\n",
              "      <td>1</td>\n",
              "      <td>-1</td>\n",
              "      <td>0</td>\n",
              "      <td>1</td>\n",
              "      <td>4</td>\n",
              "      <td>1</td>\n",
              "      <td>0</td>\n",
              "      <td>0</td>\n",
              "      <td>1</td>\n",
              "      <td>12</td>\n",
              "      <td>2</td>\n",
              "      <td>0.400000</td>\n",
              "      <td>0.883679</td>\n",
              "      <td>0.370810</td>\n",
              "      <td>3.605551</td>\n",
              "      <td>0.6</td>\n",
              "      <td>0.5</td>\n",
              "      <td>0.2</td>\n",
              "      <td>3</td>\n",
              "      <td>1</td>\n",
              "      <td>10</td>\n",
              "      <td>1</td>\n",
              "      <td>10</td>\n",
              "      <td>1</td>\n",
              "      <td>5</td>\n",
              "      <td>9</td>\n",
              "      <td>1</td>\n",
              "      <td>5</td>\n",
              "      <td>8</td>\n",
              "      <td>0</td>\n",
              "      <td>1</td>\n",
              "      <td>1</td>\n",
              "      <td>0</td>\n",
              "      <td>0</td>\n",
              "      <td>1</td>\n",
              "    </tr>\n",
              "    <tr>\n",
              "      <th>1</th>\n",
              "      <td>9</td>\n",
              "      <td>0</td>\n",
              "      <td>1</td>\n",
              "      <td>1</td>\n",
              "      <td>7</td>\n",
              "      <td>0</td>\n",
              "      <td>0</td>\n",
              "      <td>0</td>\n",
              "      <td>0</td>\n",
              "      <td>1</td>\n",
              "      <td>0</td>\n",
              "      <td>0</td>\n",
              "      <td>0</td>\n",
              "      <td>0</td>\n",
              "      <td>0</td>\n",
              "      <td>0</td>\n",
              "      <td>3</td>\n",
              "      <td>0</td>\n",
              "      <td>0</td>\n",
              "      <td>1</td>\n",
              "      <td>0.8</td>\n",
              "      <td>0.4</td>\n",
              "      <td>0.766078</td>\n",
              "      <td>11</td>\n",
              "      <td>1</td>\n",
              "      <td>-1</td>\n",
              "      <td>0</td>\n",
              "      <td>-1</td>\n",
              "      <td>11</td>\n",
              "      <td>1</td>\n",
              "      <td>1</td>\n",
              "      <td>2</td>\n",
              "      <td>1</td>\n",
              "      <td>19</td>\n",
              "      <td>3</td>\n",
              "      <td>0.316228</td>\n",
              "      <td>0.618817</td>\n",
              "      <td>0.388716</td>\n",
              "      <td>2.449490</td>\n",
              "      <td>0.3</td>\n",
              "      <td>0.1</td>\n",
              "      <td>0.3</td>\n",
              "      <td>2</td>\n",
              "      <td>1</td>\n",
              "      <td>9</td>\n",
              "      <td>5</td>\n",
              "      <td>8</td>\n",
              "      <td>1</td>\n",
              "      <td>7</td>\n",
              "      <td>3</td>\n",
              "      <td>1</td>\n",
              "      <td>1</td>\n",
              "      <td>9</td>\n",
              "      <td>0</td>\n",
              "      <td>1</td>\n",
              "      <td>1</td>\n",
              "      <td>0</td>\n",
              "      <td>1</td>\n",
              "      <td>0</td>\n",
              "    </tr>\n",
              "    <tr>\n",
              "      <th>2</th>\n",
              "      <td>13</td>\n",
              "      <td>0</td>\n",
              "      <td>5</td>\n",
              "      <td>4</td>\n",
              "      <td>9</td>\n",
              "      <td>1</td>\n",
              "      <td>0</td>\n",
              "      <td>0</td>\n",
              "      <td>0</td>\n",
              "      <td>1</td>\n",
              "      <td>0</td>\n",
              "      <td>0</td>\n",
              "      <td>0</td>\n",
              "      <td>0</td>\n",
              "      <td>0</td>\n",
              "      <td>0</td>\n",
              "      <td>12</td>\n",
              "      <td>1</td>\n",
              "      <td>0</td>\n",
              "      <td>0</td>\n",
              "      <td>0.0</td>\n",
              "      <td>0.0</td>\n",
              "      <td>-1.000000</td>\n",
              "      <td>7</td>\n",
              "      <td>1</td>\n",
              "      <td>-1</td>\n",
              "      <td>0</td>\n",
              "      <td>-1</td>\n",
              "      <td>14</td>\n",
              "      <td>1</td>\n",
              "      <td>1</td>\n",
              "      <td>2</td>\n",
              "      <td>1</td>\n",
              "      <td>60</td>\n",
              "      <td>1</td>\n",
              "      <td>0.316228</td>\n",
              "      <td>0.641586</td>\n",
              "      <td>0.347275</td>\n",
              "      <td>3.316625</td>\n",
              "      <td>0.5</td>\n",
              "      <td>0.7</td>\n",
              "      <td>0.1</td>\n",
              "      <td>2</td>\n",
              "      <td>2</td>\n",
              "      <td>9</td>\n",
              "      <td>1</td>\n",
              "      <td>8</td>\n",
              "      <td>2</td>\n",
              "      <td>7</td>\n",
              "      <td>4</td>\n",
              "      <td>2</td>\n",
              "      <td>7</td>\n",
              "      <td>7</td>\n",
              "      <td>0</td>\n",
              "      <td>1</td>\n",
              "      <td>1</td>\n",
              "      <td>0</td>\n",
              "      <td>1</td>\n",
              "      <td>0</td>\n",
              "    </tr>\n",
              "    <tr>\n",
              "      <th>3</th>\n",
              "      <td>16</td>\n",
              "      <td>0</td>\n",
              "      <td>0</td>\n",
              "      <td>1</td>\n",
              "      <td>2</td>\n",
              "      <td>0</td>\n",
              "      <td>0</td>\n",
              "      <td>1</td>\n",
              "      <td>0</td>\n",
              "      <td>0</td>\n",
              "      <td>0</td>\n",
              "      <td>0</td>\n",
              "      <td>0</td>\n",
              "      <td>0</td>\n",
              "      <td>0</td>\n",
              "      <td>0</td>\n",
              "      <td>8</td>\n",
              "      <td>1</td>\n",
              "      <td>0</td>\n",
              "      <td>0</td>\n",
              "      <td>0.9</td>\n",
              "      <td>0.2</td>\n",
              "      <td>0.580948</td>\n",
              "      <td>7</td>\n",
              "      <td>1</td>\n",
              "      <td>0</td>\n",
              "      <td>0</td>\n",
              "      <td>1</td>\n",
              "      <td>11</td>\n",
              "      <td>1</td>\n",
              "      <td>1</td>\n",
              "      <td>3</td>\n",
              "      <td>1</td>\n",
              "      <td>104</td>\n",
              "      <td>1</td>\n",
              "      <td>0.374166</td>\n",
              "      <td>0.542949</td>\n",
              "      <td>0.294958</td>\n",
              "      <td>2.000000</td>\n",
              "      <td>0.6</td>\n",
              "      <td>0.9</td>\n",
              "      <td>0.1</td>\n",
              "      <td>2</td>\n",
              "      <td>4</td>\n",
              "      <td>7</td>\n",
              "      <td>1</td>\n",
              "      <td>8</td>\n",
              "      <td>4</td>\n",
              "      <td>2</td>\n",
              "      <td>2</td>\n",
              "      <td>2</td>\n",
              "      <td>4</td>\n",
              "      <td>9</td>\n",
              "      <td>0</td>\n",
              "      <td>0</td>\n",
              "      <td>0</td>\n",
              "      <td>0</td>\n",
              "      <td>0</td>\n",
              "      <td>0</td>\n",
              "    </tr>\n",
              "    <tr>\n",
              "      <th>4</th>\n",
              "      <td>17</td>\n",
              "      <td>0</td>\n",
              "      <td>0</td>\n",
              "      <td>2</td>\n",
              "      <td>0</td>\n",
              "      <td>1</td>\n",
              "      <td>0</td>\n",
              "      <td>1</td>\n",
              "      <td>0</td>\n",
              "      <td>0</td>\n",
              "      <td>0</td>\n",
              "      <td>0</td>\n",
              "      <td>0</td>\n",
              "      <td>0</td>\n",
              "      <td>0</td>\n",
              "      <td>0</td>\n",
              "      <td>9</td>\n",
              "      <td>1</td>\n",
              "      <td>0</td>\n",
              "      <td>0</td>\n",
              "      <td>0.7</td>\n",
              "      <td>0.6</td>\n",
              "      <td>0.840759</td>\n",
              "      <td>11</td>\n",
              "      <td>1</td>\n",
              "      <td>-1</td>\n",
              "      <td>0</td>\n",
              "      <td>-1</td>\n",
              "      <td>14</td>\n",
              "      <td>1</td>\n",
              "      <td>1</td>\n",
              "      <td>2</td>\n",
              "      <td>1</td>\n",
              "      <td>82</td>\n",
              "      <td>3</td>\n",
              "      <td>0.316070</td>\n",
              "      <td>0.565832</td>\n",
              "      <td>0.365103</td>\n",
              "      <td>2.000000</td>\n",
              "      <td>0.4</td>\n",
              "      <td>0.6</td>\n",
              "      <td>0.0</td>\n",
              "      <td>2</td>\n",
              "      <td>2</td>\n",
              "      <td>6</td>\n",
              "      <td>3</td>\n",
              "      <td>10</td>\n",
              "      <td>2</td>\n",
              "      <td>12</td>\n",
              "      <td>3</td>\n",
              "      <td>1</td>\n",
              "      <td>1</td>\n",
              "      <td>3</td>\n",
              "      <td>0</td>\n",
              "      <td>0</td>\n",
              "      <td>0</td>\n",
              "      <td>1</td>\n",
              "      <td>1</td>\n",
              "      <td>0</td>\n",
              "    </tr>\n",
              "  </tbody>\n",
              "</table>\n",
              "</div>"
            ],
            "text/plain": [
              "   id  target  ps_ind_01  ...  ps_calc_18_bin  ps_calc_19_bin  ps_calc_20_bin\n",
              "0   7       0          2  ...               0               0               1\n",
              "1   9       0          1  ...               0               1               0\n",
              "2  13       0          5  ...               0               1               0\n",
              "3  16       0          0  ...               0               0               0\n",
              "4  17       0          0  ...               1               1               0\n",
              "\n",
              "[5 rows x 59 columns]"
            ]
          },
          "metadata": {},
          "execution_count": 45
        }
      ]
    },
    {
      "cell_type": "markdown",
      "metadata": {
        "id": "lkLUQJkxvhnV"
      },
      "source": [
        "### Initial view of the data"
      ]
    },
    {
      "cell_type": "code",
      "metadata": {
        "colab": {
          "base_uri": "https://localhost:8080/"
        },
        "id": "FISvUWMcRLEp",
        "outputId": "dbe77589-c2dd-47bb-cccf-f725028663be"
      },
      "source": [
        "data.shape"
      ],
      "execution_count": null,
      "outputs": [
        {
          "output_type": "execute_result",
          "data": {
            "text/plain": [
              "(595212, 59)"
            ]
          },
          "metadata": {},
          "execution_count": 126
        }
      ]
    },
    {
      "cell_type": "code",
      "metadata": {
        "colab": {
          "base_uri": "https://localhost:8080/"
        },
        "id": "ndJAtdxSPgex",
        "outputId": "9e484c07-8edc-4dc2-952d-ec138a50d8d7"
      },
      "source": [
        "data.drop_duplicates()\n",
        "data.shape"
      ],
      "execution_count": null,
      "outputs": [
        {
          "output_type": "execute_result",
          "data": {
            "text/plain": [
              "(595212, 59)"
            ]
          },
          "metadata": {},
          "execution_count": 127
        }
      ]
    },
    {
      "cell_type": "code",
      "metadata": {
        "colab": {
          "base_uri": "https://localhost:8080/"
        },
        "id": "J2VmgSk3RNBS",
        "outputId": "da32f3fd-7ff7-4a0d-f5be-8cc109effbed"
      },
      "source": [
        "data.info() "
      ],
      "execution_count": null,
      "outputs": [
        {
          "output_type": "stream",
          "name": "stdout",
          "text": [
            "<class 'pandas.core.frame.DataFrame'>\n",
            "RangeIndex: 595212 entries, 0 to 595211\n",
            "Data columns (total 59 columns):\n",
            " #   Column          Non-Null Count   Dtype  \n",
            "---  ------          --------------   -----  \n",
            " 0   id              595212 non-null  int64  \n",
            " 1   target          595212 non-null  int64  \n",
            " 2   ps_ind_01       595212 non-null  int64  \n",
            " 3   ps_ind_02_cat   595212 non-null  int64  \n",
            " 4   ps_ind_03       595212 non-null  int64  \n",
            " 5   ps_ind_04_cat   595212 non-null  int64  \n",
            " 6   ps_ind_05_cat   595212 non-null  int64  \n",
            " 7   ps_ind_06_bin   595212 non-null  int64  \n",
            " 8   ps_ind_07_bin   595212 non-null  int64  \n",
            " 9   ps_ind_08_bin   595212 non-null  int64  \n",
            " 10  ps_ind_09_bin   595212 non-null  int64  \n",
            " 11  ps_ind_10_bin   595212 non-null  int64  \n",
            " 12  ps_ind_11_bin   595212 non-null  int64  \n",
            " 13  ps_ind_12_bin   595212 non-null  int64  \n",
            " 14  ps_ind_13_bin   595212 non-null  int64  \n",
            " 15  ps_ind_14       595212 non-null  int64  \n",
            " 16  ps_ind_15       595212 non-null  int64  \n",
            " 17  ps_ind_16_bin   595212 non-null  int64  \n",
            " 18  ps_ind_17_bin   595212 non-null  int64  \n",
            " 19  ps_ind_18_bin   595212 non-null  int64  \n",
            " 20  ps_reg_01       595212 non-null  float64\n",
            " 21  ps_reg_02       595212 non-null  float64\n",
            " 22  ps_reg_03       595212 non-null  float64\n",
            " 23  ps_car_01_cat   595212 non-null  int64  \n",
            " 24  ps_car_02_cat   595212 non-null  int64  \n",
            " 25  ps_car_03_cat   595212 non-null  int64  \n",
            " 26  ps_car_04_cat   595212 non-null  int64  \n",
            " 27  ps_car_05_cat   595212 non-null  int64  \n",
            " 28  ps_car_06_cat   595212 non-null  int64  \n",
            " 29  ps_car_07_cat   595212 non-null  int64  \n",
            " 30  ps_car_08_cat   595212 non-null  int64  \n",
            " 31  ps_car_09_cat   595212 non-null  int64  \n",
            " 32  ps_car_10_cat   595212 non-null  int64  \n",
            " 33  ps_car_11_cat   595212 non-null  int64  \n",
            " 34  ps_car_11       595212 non-null  int64  \n",
            " 35  ps_car_12       595212 non-null  float64\n",
            " 36  ps_car_13       595212 non-null  float64\n",
            " 37  ps_car_14       595212 non-null  float64\n",
            " 38  ps_car_15       595212 non-null  float64\n",
            " 39  ps_calc_01      595212 non-null  float64\n",
            " 40  ps_calc_02      595212 non-null  float64\n",
            " 41  ps_calc_03      595212 non-null  float64\n",
            " 42  ps_calc_04      595212 non-null  int64  \n",
            " 43  ps_calc_05      595212 non-null  int64  \n",
            " 44  ps_calc_06      595212 non-null  int64  \n",
            " 45  ps_calc_07      595212 non-null  int64  \n",
            " 46  ps_calc_08      595212 non-null  int64  \n",
            " 47  ps_calc_09      595212 non-null  int64  \n",
            " 48  ps_calc_10      595212 non-null  int64  \n",
            " 49  ps_calc_11      595212 non-null  int64  \n",
            " 50  ps_calc_12      595212 non-null  int64  \n",
            " 51  ps_calc_13      595212 non-null  int64  \n",
            " 52  ps_calc_14      595212 non-null  int64  \n",
            " 53  ps_calc_15_bin  595212 non-null  int64  \n",
            " 54  ps_calc_16_bin  595212 non-null  int64  \n",
            " 55  ps_calc_17_bin  595212 non-null  int64  \n",
            " 56  ps_calc_18_bin  595212 non-null  int64  \n",
            " 57  ps_calc_19_bin  595212 non-null  int64  \n",
            " 58  ps_calc_20_bin  595212 non-null  int64  \n",
            "dtypes: float64(10), int64(49)\n",
            "memory usage: 267.9 MB\n"
          ]
        }
      ]
    },
    {
      "cell_type": "markdown",
      "metadata": {
        "id": "qzh4g9he6ZEi"
      },
      "source": [
        "In our initial view of the data, we notice that:\n",
        "-  there are 57 features. \n",
        "- the target have two values either zero or one :<br>[0-> insurance not claimed , 1 -> insurance claimed]. <br> \n",
        "- all data are represented by a numerical representation.\n",
        "-  we have 4 main categories, which are (ind, reg, car, calc)."
      ]
    },
    {
      "cell_type": "markdown",
      "metadata": {
        "id": "8dZ6Fa3wh7s3"
      },
      "source": [
        "### Deep look on the data"
      ]
    },
    {
      "cell_type": "markdown",
      "metadata": {
        "id": "zZDYfTZ-xt1c"
      },
      "source": [
        "### number of columns in each class\n",
        " "
      ]
    },
    {
      "cell_type": "code",
      "metadata": {
        "id": "OXLSWrHpynso"
      },
      "source": [
        "cols=data.columns.to_list()[2:] # to  exclude id and target "
      ],
      "execution_count": null,
      "outputs": []
    },
    {
      "cell_type": "code",
      "metadata": {
        "id": "gae_kbeB457S"
      },
      "source": [
        "classes=['ind', 'reg', 'car', 'calc']\n",
        "ind=[] # list of ind columns\n",
        "reg=[] # list of reg columns\n",
        "car=[] # list of car columns\n",
        "calc=[] # list of calc columns\n",
        "\n",
        "measurement_scale={'interval':[],'ordinal':[],'categorical':[],'binary':[]}\n",
        "\n",
        "for col in cols:\n",
        "  col_spl=col.split('_')\n",
        "\n",
        "  if col_spl[1]==classes[0]:\n",
        "    ind.append(col)\n",
        "\n",
        "\n",
        "  elif col_spl[1]==classes[1]:\n",
        "    reg.append(col)\n",
        "\n",
        "  elif col_spl[1]==classes[2]:\n",
        "    car.append(col)\n",
        "\n",
        "  elif col_spl[1]==classes[3]:\n",
        "    calc.append(col)\n",
        "#----\n",
        "\n",
        "  if len(col_spl)==3: \n",
        "    if data[col].dtype=='float64':\n",
        "      measurement_scale['interval'].append(col)\n",
        "    else:\n",
        "      measurement_scale['ordinal'].append(col)\n",
        "\n",
        "  else:\n",
        "    if col_spl[3]=='cat':\n",
        "      measurement_scale['categorical'].append(col)\n",
        "    elif col_spl[3]=='bin':\n",
        "      measurement_scale['binary'].append(col)\n",
        "\n",
        "\n"
      ],
      "execution_count": null,
      "outputs": []
    },
    {
      "cell_type": "code",
      "metadata": {
        "colab": {
          "base_uri": "https://localhost:8080/"
        },
        "id": "cJarZpalNBoW",
        "outputId": "470cc040-0e34-41f6-db68-e98881e43fd3"
      },
      "source": [
        "print('counts of column in ind {} , reg {}, car {} and calc {}'.format(len(ind),len(reg),len(car),len(calc)))"
      ],
      "execution_count": null,
      "outputs": [
        {
          "output_type": "stream",
          "name": "stdout",
          "text": [
            "counts of column in ind 18 , reg 3, car 16 and calc 20\n"
          ]
        }
      ]
    },
    {
      "cell_type": "markdown",
      "metadata": {
        "id": "QhFwew5uxifd"
      },
      "source": [
        "### Number of categorical and binary columns in data"
      ]
    },
    {
      "cell_type": "code",
      "metadata": {
        "colab": {
          "base_uri": "https://localhost:8080/",
          "height": 282
        },
        "id": "Wy5mzIEgN8z6",
        "outputId": "4bb1066a-d61d-4a4c-957f-08f79c0616b0"
      },
      "source": [
        "plt.bar(measurement_scale.keys(),[len(Dtype)for Dtype in measurement_scale.values()])"
      ],
      "execution_count": null,
      "outputs": [
        {
          "output_type": "execute_result",
          "data": {
            "text/plain": [
              "<BarContainer object of 4 artists>"
            ]
          },
          "metadata": {},
          "execution_count": 52
        },
        {
          "output_type": "display_data",
          "data": {
            "image/png": "[encoded data removed]",
            "text/plain": [
              "<Figure size 432x288 with 1 Axes>"
            ]
          },
          "metadata": {
            "needs_background": "light"
          }
        }
      ]
    },
    {
      "cell_type": "code",
      "metadata": {
        "colab": {
          "base_uri": "https://localhost:8080/"
        },
        "id": "4YSkuQAiO3Rk",
        "outputId": "2965c151-47b1-4f9b-e80b-e03bc1324c88"
      },
      "source": [
        "print(\"the binary columns in data is : \",measurement_scale['binary'])"
      ],
      "execution_count": null,
      "outputs": [
        {
          "output_type": "stream",
          "name": "stdout",
          "text": [
            "the binary columns in data is :  ['ps_ind_06_bin', 'ps_ind_07_bin', 'ps_ind_08_bin', 'ps_ind_09_bin', 'ps_ind_10_bin', 'ps_ind_11_bin', 'ps_ind_12_bin', 'ps_ind_13_bin', 'ps_ind_16_bin', 'ps_ind_17_bin', 'ps_ind_18_bin', 'ps_calc_15_bin', 'ps_calc_16_bin', 'ps_calc_17_bin', 'ps_calc_18_bin', 'ps_calc_19_bin', 'ps_calc_20_bin']\n"
          ]
        }
      ]
    },
    {
      "cell_type": "code",
      "metadata": {
        "id": "tgVwMyZuPNk9",
        "colab": {
          "base_uri": "https://localhost:8080/"
        },
        "outputId": "801ab5ee-dd6a-4479-a526-e2e4d0722192"
      },
      "source": [
        "print(\"the categorical columns in data is : \",measurement_scale['categorical'])"
      ],
      "execution_count": null,
      "outputs": [
        {
          "output_type": "stream",
          "name": "stdout",
          "text": [
            "the categorical columns in data is :  ['ps_ind_02_cat', 'ps_ind_04_cat', 'ps_ind_05_cat', 'ps_car_01_cat', 'ps_car_02_cat', 'ps_car_03_cat', 'ps_car_04_cat', 'ps_car_05_cat', 'ps_car_06_cat', 'ps_car_07_cat', 'ps_car_08_cat', 'ps_car_09_cat', 'ps_car_10_cat', 'ps_car_11_cat']\n"
          ]
        }
      ]
    },
    {
      "cell_type": "code",
      "metadata": {
        "colab": {
          "base_uri": "https://localhost:8080/"
        },
        "id": "fw2V9Tn1hsIW",
        "outputId": "7659a379-90b6-499b-f78d-86e79780ce44"
      },
      "source": [
        "len(measurement_scale['binary']),len(measurement_scale['ordinal']),len(measurement_scale['interval']),len(measurement_scale['categorical'])"
      ],
      "execution_count": null,
      "outputs": [
        {
          "output_type": "execute_result",
          "data": {
            "text/plain": [
              "(17, 16, 10, 14)"
            ]
          },
          "metadata": {},
          "execution_count": 55
        }
      ]
    },
    {
      "cell_type": "markdown",
      "metadata": {
        "id": "u3uDVEhdyRcM"
      },
      "source": [
        "### Our inferences about interval,ordinal and binary variables"
      ]
    },
    {
      "cell_type": "code",
      "metadata": {
        "id": "XiLKC0K1hOJo"
      },
      "source": [
        "binary_data=data[measurement_scale['binary']]\n",
        "ordinal_data=data[measurement_scale['ordinal']]\n",
        "interval_data=data[measurement_scale['interval']]"
      ],
      "execution_count": null,
      "outputs": []
    },
    {
      "cell_type": "code",
      "metadata": {
        "id": "UYlz-dByh85d",
        "colab": {
          "base_uri": "https://localhost:8080/"
        },
        "outputId": "9280ad31-e7ed-4653-991d-c807c69ebe39"
      },
      "source": [
        "for col in binary_data:\n",
        "  print(binary_data[col].value_counts())\n",
        "  print('---')\n"
      ],
      "execution_count": null,
      "outputs": [
        {
          "output_type": "stream",
          "name": "stdout",
          "text": [
            "0    360852\n",
            "1    234360\n",
            "Name: ps_ind_06_bin, dtype: int64\n",
            "---\n",
            "0    442223\n",
            "1    152989\n",
            "Name: ps_ind_07_bin, dtype: int64\n",
            "---\n",
            "0    497644\n",
            "1     97568\n",
            "Name: ps_ind_08_bin, dtype: int64\n",
            "---\n",
            "0    484917\n",
            "1    110295\n",
            "Name: ps_ind_09_bin, dtype: int64\n",
            "---\n",
            "0    594990\n",
            "1       222\n",
            "Name: ps_ind_10_bin, dtype: int64\n",
            "---\n",
            "0    594205\n",
            "1      1007\n",
            "Name: ps_ind_11_bin, dtype: int64\n",
            "---\n",
            "0    589594\n",
            "1      5618\n",
            "Name: ps_ind_12_bin, dtype: int64\n",
            "---\n",
            "0    594648\n",
            "1       564\n",
            "Name: ps_ind_13_bin, dtype: int64\n",
            "---\n",
            "1    393330\n",
            "0    201882\n",
            "Name: ps_ind_16_bin, dtype: int64\n",
            "---\n",
            "0    523143\n",
            "1     72069\n",
            "Name: ps_ind_17_bin, dtype: int64\n",
            "---\n",
            "0    503879\n",
            "1     91333\n",
            "Name: ps_ind_18_bin, dtype: int64\n",
            "---\n",
            "0    522342\n",
            "1     72870\n",
            "Name: ps_calc_15_bin, dtype: int64\n",
            "---\n",
            "1    373698\n",
            "0    221514\n",
            "Name: ps_calc_16_bin, dtype: int64\n",
            "---\n",
            "1    329856\n",
            "0    265356\n",
            "Name: ps_calc_17_bin, dtype: int64\n",
            "---\n",
            "0    424278\n",
            "1    170934\n",
            "Name: ps_calc_18_bin, dtype: int64\n",
            "---\n",
            "0    387469\n",
            "1    207743\n",
            "Name: ps_calc_19_bin, dtype: int64\n",
            "---\n",
            "0    503955\n",
            "1     91257\n",
            "Name: ps_calc_20_bin, dtype: int64\n",
            "---\n"
          ]
        }
      ]
    },
    {
      "cell_type": "code",
      "metadata": {
        "colab": {
          "base_uri": "https://localhost:8080/",
          "height": 542
        },
        "id": "-MX_pMrmRJOv",
        "outputId": "d6bdb148-06cf-469c-9c31-cf26454b9352"
      },
      "source": [
        "zeroes = []\n",
        "ones = []\n",
        "for col in measurement_scale['binary']:\n",
        "    zeroes.append((data[col] == 0).sum())\n",
        "    ones.append((data[col] == 1).sum())\n",
        "\n",
        "trace1 = go.Bar(\n",
        "    x=measurement_scale['binary'],\n",
        "    y=zeroes ,\n",
        "    name='Zero count'\n",
        ")\n",
        "trace2 = go.Bar(\n",
        "    x=measurement_scale['binary'],\n",
        "    y=ones,\n",
        "    name='One count'\n",
        ")\n",
        "\n",
        "data_ = [trace1, trace2]\n",
        "layout = go.Layout(\n",
        "    barmode='stack',\n",
        "    title='Count of 1 and 0 in binary variables'\n",
        ")\n",
        "\n",
        "fig = go.Figure(data=data_, layout=layout)\n",
        "py.iplot(fig, filename='stacked-bar')\n",
        "\n"
      ],
      "execution_count": null,
      "outputs": [
        {
          "output_type": "display_data",
          "data": {
            "text/html": [
              "<html>\n",
              "<head><meta charset=\"utf-8\" /></head>\n",
              "<body>\n",
              "    <div>\n",
              "            <script src=\"https://cdnjs.cloudflare.com/ajax/libs/mathjax/2.7.5/MathJax.js?config=TeX-AMS-MML_SVG\"></script><script type=\"text/javascript\">if (window.MathJax) {MathJax.Hub.Config({SVG: {font: \"STIX-Web\"}});}</script>\n",
              "                <script type=\"text/javascript\">window.PlotlyConfig = {MathJaxConfig: 'local'};</script>\n",
              "        <script src=\"https://cdn.plot.ly/plotly-latest.min.js\"></script>    \n",
              "            <div id=\"c853b37d-59a8-4eb8-90ab-52f32550620a\" class=\"plotly-graph-div\" style=\"height:525px; width:100%;\"></div>\n",
              "            <script type=\"text/javascript\">\n",
              "                \n",
              "                    window.PLOTLYENV=window.PLOTLYENV || {};\n",
              "                    \n",
              "                if (document.getElementById(\"c853b37d-59a8-4eb8-90ab-52f32550620a\")) {\n",
              "                    Plotly.newPlot(\n",
              "                        'c853b37d-59a8-4eb8-90ab-52f32550620a',\n",
              "                        [{\"name\": \"Zero count\", \"type\": \"bar\", \"x\": [\"ps_ind_06_bin\", \"ps_ind_07_bin\", \"ps_ind_08_bin\", \"ps_ind_09_bin\", \"ps_ind_10_bin\", \"ps_ind_11_bin\", \"ps_ind_12_bin\", \"ps_ind_13_bin\", \"ps_ind_16_bin\", \"ps_ind_17_bin\", \"ps_ind_18_bin\", \"ps_calc_15_bin\", \"ps_calc_16_bin\", \"ps_calc_17_bin\", \"ps_calc_18_bin\", \"ps_calc_19_bin\", \"ps_calc_20_bin\"], \"y\": [360852, 442223, 497644, 484917, 594990, 594205, 589594, 594648, 201882, 523143, 503879, 522342, 221514, 265356, 424278, 387469, 503955]}, {\"name\": \"One count\", \"type\": \"bar\", \"x\": [\"ps_ind_06_bin\", \"ps_ind_07_bin\", \"ps_ind_08_bin\", \"ps_ind_09_bin\", \"ps_ind_10_bin\", \"ps_ind_11_bin\", \"ps_ind_12_bin\", \"ps_ind_13_bin\", \"ps_ind_16_bin\", \"ps_ind_17_bin\", \"ps_ind_18_bin\", \"ps_calc_15_bin\", \"ps_calc_16_bin\", \"ps_calc_17_bin\", \"ps_calc_18_bin\", \"ps_calc_19_bin\", \"ps_calc_20_bin\"], \"y\": [234360, 152989, 97568, 110295, 222, 1007, 5618, 564, 393330, 72069, 91333, 72870, 373698, 329856, 170934, 207743, 91257]}],\n",
              "                        {\"barmode\": \"stack\", \"template\": {\"data\": {\"bar\": [{\"error_x\": {\"color\": \"#2a3f5f\"}, \"error_y\": {\"color\": \"#2a3f5f\"}, \"marker\": {\"line\": {\"color\": \"#E5ECF6\", \"width\": 0.5}}, \"type\": \"bar\"}], \"barpolar\": [{\"marker\": {\"line\": {\"color\": \"#E5ECF6\", \"width\": 0.5}}, \"type\": \"barpolar\"}], \"carpet\": [{\"aaxis\": {\"endlinecolor\": \"#2a3f5f\", \"gridcolor\": \"white\", \"linecolor\": \"white\", \"minorgridcolor\": \"white\", \"startlinecolor\": \"#2a3f5f\"}, \"baxis\": {\"endlinecolor\": \"#2a3f5f\", \"gridcolor\": \"white\", \"linecolor\": \"white\", \"minorgridcolor\": \"white\", \"startlinecolor\": \"#2a3f5f\"}, \"type\": \"carpet\"}], \"choropleth\": [{\"colorbar\": {\"outlinewidth\": 0, \"ticks\": \"\"}, \"type\": \"choropleth\"}], \"contour\": [{\"colorbar\": {\"outlinewidth\": 0, \"ticks\": \"\"}, \"colorscale\": [[0.0, \"#0d0887\"], [0.1111111111111111, \"#46039f\"], [0.2222222222222222, \"#7201a8\"], [0.3333333333333333, \"#9c179e\"], [0.4444444444444444, \"#bd3786\"], [0.5555555555555556, \"#d8576b\"], [0.6666666666666666, \"#ed7953\"], [0.7777777777777778, \"#fb9f3a\"], [0.8888888888888888, \"#fdca26\"], [1.0, \"#f0f921\"]], \"type\": \"contour\"}], \"contourcarpet\": [{\"colorbar\": {\"outlinewidth\": 0, \"ticks\": \"\"}, \"type\": \"contourcarpet\"}], \"heatmap\": [{\"colorbar\": {\"outlinewidth\": 0, \"ticks\": \"\"}, \"colorscale\": [[0.0, \"#0d0887\"], [0.1111111111111111, \"#46039f\"], [0.2222222222222222, \"#7201a8\"], [0.3333333333333333, \"#9c179e\"], [0.4444444444444444, \"#bd3786\"], [0.5555555555555556, \"#d8576b\"], [0.6666666666666666, \"#ed7953\"], [0.7777777777777778, \"#fb9f3a\"], [0.8888888888888888, \"#fdca26\"], [1.0, \"#f0f921\"]], \"type\": \"heatmap\"}], \"heatmapgl\": [{\"colorbar\": {\"outlinewidth\": 0, \"ticks\": \"\"}, \"colorscale\": [[0.0, \"#0d0887\"], [0.1111111111111111, \"#46039f\"], [0.2222222222222222, \"#7201a8\"], [0.3333333333333333, \"#9c179e\"], [0.4444444444444444, \"#bd3786\"], [0.5555555555555556, \"#d8576b\"], [0.6666666666666666, \"#ed7953\"], [0.7777777777777778, \"#fb9f3a\"], [0.8888888888888888, \"#fdca26\"], [1.0, \"#f0f921\"]], \"type\": \"heatmapgl\"}], \"histogram\": [{\"marker\": {\"colorbar\": {\"outlinewidth\": 0, \"ticks\": \"\"}}, \"type\": \"histogram\"}], \"histogram2d\": [{\"colorbar\": {\"outlinewidth\": 0, \"ticks\": \"\"}, \"colorscale\": [[0.0, \"#0d0887\"], [0.1111111111111111, \"#46039f\"], [0.2222222222222222, \"#7201a8\"], [0.3333333333333333, \"#9c179e\"], [0.4444444444444444, \"#bd3786\"], [0.5555555555555556, \"#d8576b\"], [0.6666666666666666, \"#ed7953\"], [0.7777777777777778, \"#fb9f3a\"], [0.8888888888888888, \"#fdca26\"], [1.0, \"#f0f921\"]], \"type\": \"histogram2d\"}], \"histogram2dcontour\": [{\"colorbar\": {\"outlinewidth\": 0, \"ticks\": \"\"}, \"colorscale\": [[0.0, \"#0d0887\"], [0.1111111111111111, \"#46039f\"], [0.2222222222222222, \"#7201a8\"], [0.3333333333333333, \"#9c179e\"], [0.4444444444444444, \"#bd3786\"], [0.5555555555555556, \"#d8576b\"], [0.6666666666666666, \"#ed7953\"], [0.7777777777777778, \"#fb9f3a\"], [0.8888888888888888, \"#fdca26\"], [1.0, \"#f0f921\"]], \"type\": \"histogram2dcontour\"}], \"mesh3d\": [{\"colorbar\": {\"outlinewidth\": 0, \"ticks\": \"\"}, \"type\": \"mesh3d\"}], \"parcoords\": [{\"line\": {\"colorbar\": {\"outlinewidth\": 0, \"ticks\": \"\"}}, \"type\": \"parcoords\"}], \"pie\": [{\"automargin\": true, \"type\": \"pie\"}], \"scatter\": [{\"marker\": {\"colorbar\": {\"outlinewidth\": 0, \"ticks\": \"\"}}, \"type\": \"scatter\"}], \"scatter3d\": [{\"line\": {\"colorbar\": {\"outlinewidth\": 0, \"ticks\": \"\"}}, \"marker\": {\"colorbar\": {\"outlinewidth\": 0, \"ticks\": \"\"}}, \"type\": \"scatter3d\"}], \"scattercarpet\": [{\"marker\": {\"colorbar\": {\"outlinewidth\": 0, \"ticks\": \"\"}}, \"type\": \"scattercarpet\"}], \"scattergeo\": [{\"marker\": {\"colorbar\": {\"outlinewidth\": 0, \"ticks\": \"\"}}, \"type\": \"scattergeo\"}], \"scattergl\": [{\"marker\": {\"colorbar\": {\"outlinewidth\": 0, \"ticks\": \"\"}}, \"type\": \"scattergl\"}], \"scattermapbox\": [{\"marker\": {\"colorbar\": {\"outlinewidth\": 0, \"ticks\": \"\"}}, \"type\": \"scattermapbox\"}], \"scatterpolar\": [{\"marker\": {\"colorbar\": {\"outlinewidth\": 0, \"ticks\": \"\"}}, \"type\": \"scatterpolar\"}], \"scatterpolargl\": [{\"marker\": {\"colorbar\": {\"outlinewidth\": 0, \"ticks\": \"\"}}, \"type\": \"scatterpolargl\"}], \"scatterternary\": [{\"marker\": {\"colorbar\": {\"outlinewidth\": 0, \"ticks\": \"\"}}, \"type\": \"scatterternary\"}], \"surface\": [{\"colorbar\": {\"outlinewidth\": 0, \"ticks\": \"\"}, \"colorscale\": [[0.0, \"#0d0887\"], [0.1111111111111111, \"#46039f\"], [0.2222222222222222, \"#7201a8\"], [0.3333333333333333, \"#9c179e\"], [0.4444444444444444, \"#bd3786\"], [0.5555555555555556, \"#d8576b\"], [0.6666666666666666, \"#ed7953\"], [0.7777777777777778, \"#fb9f3a\"], [0.8888888888888888, \"#fdca26\"], [1.0, \"#f0f921\"]], \"type\": \"surface\"}], \"table\": [{\"cells\": {\"fill\": {\"color\": \"#EBF0F8\"}, \"line\": {\"color\": \"white\"}}, \"header\": {\"fill\": {\"color\": \"#C8D4E3\"}, \"line\": {\"color\": \"white\"}}, \"type\": \"table\"}]}, \"layout\": {\"annotationdefaults\": {\"arrowcolor\": \"#2a3f5f\", \"arrowhead\": 0, \"arrowwidth\": 1}, \"coloraxis\": {\"colorbar\": {\"outlinewidth\": 0, \"ticks\": \"\"}}, \"colorscale\": {\"diverging\": [[0, \"#8e0152\"], [0.1, \"#c51b7d\"], [0.2, \"#de77ae\"], [0.3, \"#f1b6da\"], [0.4, \"#fde0ef\"], [0.5, \"#f7f7f7\"], [0.6, \"#e6f5d0\"], [0.7, \"#b8e186\"], [0.8, \"#7fbc41\"], [0.9, \"#4d9221\"], [1, \"#276419\"]], \"sequential\": [[0.0, \"#0d0887\"], [0.1111111111111111, \"#46039f\"], [0.2222222222222222, \"#7201a8\"], [0.3333333333333333, \"#9c179e\"], [0.4444444444444444, \"#bd3786\"], [0.5555555555555556, \"#d8576b\"], [0.6666666666666666, \"#ed7953\"], [0.7777777777777778, \"#fb9f3a\"], [0.8888888888888888, \"#fdca26\"], [1.0, \"#f0f921\"]], \"sequentialminus\": [[0.0, \"#0d0887\"], [0.1111111111111111, \"#46039f\"], [0.2222222222222222, \"#7201a8\"], [0.3333333333333333, \"#9c179e\"], [0.4444444444444444, \"#bd3786\"], [0.5555555555555556, \"#d8576b\"], [0.6666666666666666, \"#ed7953\"], [0.7777777777777778, \"#fb9f3a\"], [0.8888888888888888, \"#fdca26\"], [1.0, \"#f0f921\"]]}, \"colorway\": [\"#636efa\", \"#EF553B\", \"#00cc96\", \"#ab63fa\", \"#FFA15A\", \"#19d3f3\", \"#FF6692\", \"#B6E880\", \"#FF97FF\", \"#FECB52\"], \"font\": {\"color\": \"#2a3f5f\"}, \"geo\": {\"bgcolor\": \"white\", \"lakecolor\": \"white\", \"landcolor\": \"#E5ECF6\", \"showlakes\": true, \"showland\": true, \"subunitcolor\": \"white\"}, \"hoverlabel\": {\"align\": \"left\"}, \"hovermode\": \"closest\", \"mapbox\": {\"style\": \"light\"}, \"paper_bgcolor\": \"white\", \"plot_bgcolor\": \"#E5ECF6\", \"polar\": {\"angularaxis\": {\"gridcolor\": \"white\", \"linecolor\": \"white\", \"ticks\": \"\"}, \"bgcolor\": \"#E5ECF6\", \"radialaxis\": {\"gridcolor\": \"white\", \"linecolor\": \"white\", \"ticks\": \"\"}}, \"scene\": {\"xaxis\": {\"backgroundcolor\": \"#E5ECF6\", \"gridcolor\": \"white\", \"gridwidth\": 2, \"linecolor\": \"white\", \"showbackground\": true, \"ticks\": \"\", \"zerolinecolor\": \"white\"}, \"yaxis\": {\"backgroundcolor\": \"#E5ECF6\", \"gridcolor\": \"white\", \"gridwidth\": 2, \"linecolor\": \"white\", \"showbackground\": true, \"ticks\": \"\", \"zerolinecolor\": \"white\"}, \"zaxis\": {\"backgroundcolor\": \"#E5ECF6\", \"gridcolor\": \"white\", \"gridwidth\": 2, \"linecolor\": \"white\", \"showbackground\": true, \"ticks\": \"\", \"zerolinecolor\": \"white\"}}, \"shapedefaults\": {\"line\": {\"color\": \"#2a3f5f\"}}, \"ternary\": {\"aaxis\": {\"gridcolor\": \"white\", \"linecolor\": \"white\", \"ticks\": \"\"}, \"baxis\": {\"gridcolor\": \"white\", \"linecolor\": \"white\", \"ticks\": \"\"}, \"bgcolor\": \"#E5ECF6\", \"caxis\": {\"gridcolor\": \"white\", \"linecolor\": \"white\", \"ticks\": \"\"}}, \"title\": {\"x\": 0.05}, \"xaxis\": {\"automargin\": true, \"gridcolor\": \"white\", \"linecolor\": \"white\", \"ticks\": \"\", \"title\": {\"standoff\": 15}, \"zerolinecolor\": \"white\", \"zerolinewidth\": 2}, \"yaxis\": {\"automargin\": true, \"gridcolor\": \"white\", \"linecolor\": \"white\", \"ticks\": \"\", \"title\": {\"standoff\": 15}, \"zerolinecolor\": \"white\", \"zerolinewidth\": 2}}}, \"title\": {\"text\": \"Count of 1 and 0 in binary variables\"}},\n",
              "                        {\"responsive\": true}\n",
              "                    ).then(function(){\n",
              "                            \n",
              "var gd = document.getElementById('c853b37d-59a8-4eb8-90ab-52f32550620a');\n",
              "var x = new MutationObserver(function (mutations, observer) {{\n",
              "        var display = window.getComputedStyle(gd).display;\n",
              "        if (!display || display === 'none') {{\n",
              "            console.log([gd, 'removed!']);\n",
              "            Plotly.purge(gd);\n",
              "            observer.disconnect();\n",
              "        }}\n",
              "}});\n",
              "\n",
              "// Listen for the removal of the full notebook cells\n",
              "var notebookContainer = gd.closest('#notebook-container');\n",
              "if (notebookContainer) {{\n",
              "    x.observe(notebookContainer, {childList: true});\n",
              "}}\n",
              "\n",
              "// Listen for the clearing of the current output cell\n",
              "var outputEl = gd.closest('.output');\n",
              "if (outputEl) {{\n",
              "    x.observe(outputEl, {childList: true});\n",
              "}}\n",
              "\n",
              "                        })\n",
              "                };\n",
              "                \n",
              "            </script>\n",
              "        </div>\n",
              "</body>\n",
              "</html>"
            ]
          },
          "metadata": {}
        }
      ]
    },
    {
      "cell_type": "markdown",
      "metadata": {
        "id": "XJJhA0PGkOLi"
      },
      "source": [
        "in all column count of rows that have 0 value more than 1 "
      ]
    },
    {
      "cell_type": "code",
      "metadata": {
        "id": "uqG5HTlCjvS_",
        "colab": {
          "base_uri": "https://localhost:8080/"
        },
        "outputId": "282d7c53-9f10-4199-b12d-0e59d0935f45"
      },
      "source": [
        "for col in ordinal_data:\n",
        "  print(ordinal_data[col].value_counts())\n",
        "  print('---')"
      ],
      "execution_count": null,
      "outputs": [
        {
          "output_type": "stream",
          "name": "stdout",
          "text": [
            "0    187594\n",
            "1    143984\n",
            "2     82468\n",
            "5     61464\n",
            "3     51193\n",
            "4     33524\n",
            "6     17682\n",
            "7     17303\n",
            "Name: ps_ind_01, dtype: int64\n",
            "---\n",
            "2     96110\n",
            "3     81973\n",
            "1     67994\n",
            "4     67213\n",
            "5     62803\n",
            "6     60406\n",
            "7     52364\n",
            "8     39667\n",
            "9     25436\n",
            "0     15514\n",
            "10    14484\n",
            "11    11248\n",
            "Name: ps_ind_03, dtype: int64\n",
            "---\n",
            "0    588832\n",
            "1      5495\n",
            "2       744\n",
            "3       136\n",
            "4         5\n",
            "Name: ps_ind_14, dtype: int64\n",
            "---\n",
            "7     65336\n",
            "8     59600\n",
            "6     58408\n",
            "10    54341\n",
            "11    53215\n",
            "9     45497\n",
            "12    44851\n",
            "5     42553\n",
            "4     41770\n",
            "13    35256\n",
            "3     32267\n",
            "0     31826\n",
            "2     18675\n",
            "1     11617\n",
            "Name: ps_ind_15, dtype: int64\n",
            "---\n",
            " 3    318919\n",
            " 2    189353\n",
            " 1     60952\n",
            " 0     25983\n",
            "-1         5\n",
            "Name: ps_car_11, dtype: int64\n",
            "---\n",
            "2    193977\n",
            "3    175512\n",
            "1    108012\n",
            "4     79606\n",
            "0     23912\n",
            "5     14193\n",
            "Name: ps_calc_04, dtype: int64\n",
            "---\n",
            "2    195160\n",
            "1    170860\n",
            "3    119192\n",
            "0     61226\n",
            "4     40682\n",
            "5      7534\n",
            "6       558\n",
            "Name: ps_calc_05, dtype: int64\n",
            "---\n",
            "8     175015\n",
            "7     139771\n",
            "9     129207\n",
            "6      73478\n",
            "10     43085\n",
            "5      26613\n",
            "4       6705\n",
            "3       1199\n",
            "2        132\n",
            "1          6\n",
            "0          1\n",
            "Name: ps_calc_06, dtype: int64\n",
            "---\n",
            "3    162414\n",
            "2    139101\n",
            "4    122039\n",
            "1     69309\n",
            "5     61705\n",
            "6     20403\n",
            "0     15290\n",
            "7      4381\n",
            "8       547\n",
            "9        23\n",
            "Name: ps_calc_07, dtype: int64\n",
            "---\n",
            "9     151746\n",
            "10    151330\n",
            "8     102944\n",
            "11     91639\n",
            "7      49567\n",
            "12     25392\n",
            "6      17183\n",
            "5       4469\n",
            "4        842\n",
            "3         90\n",
            "2         10\n",
            "Name: ps_calc_08, dtype: int64\n",
            "---\n",
            "2    182519\n",
            "3    152829\n",
            "1    121391\n",
            "4     76973\n",
            "0     34479\n",
            "5     22976\n",
            "6      3782\n",
            "7       263\n",
            "Name: ps_calc_09, dtype: int64\n",
            "---\n",
            "8     82043\n",
            "7     78009\n",
            "9     76772\n",
            "10    65307\n",
            "6     64567\n",
            "11    49566\n",
            "5     46181\n",
            "12    34914\n",
            "4     27204\n",
            "13    22709\n",
            "14    13694\n",
            "3     12981\n",
            "15     7701\n",
            "2      4566\n",
            "16     4110\n",
            "17     2041\n",
            "1      1107\n",
            "18      922\n",
            "19      401\n",
            "20      168\n",
            "0       139\n",
            "21       65\n",
            "22       33\n",
            "23       10\n",
            "24        1\n",
            "25        1\n",
            "Name: ps_calc_10, dtype: int64\n",
            "---\n",
            "5     102512\n",
            "4      93890\n",
            "6      93110\n",
            "7      72148\n",
            "3      69519\n",
            "8      49105\n",
            "2      38364\n",
            "9      29827\n",
            "10     16233\n",
            "1      14035\n",
            "11      7928\n",
            "12      3583\n",
            "0       2461\n",
            "13      1575\n",
            "14       631\n",
            "15       189\n",
            "16        68\n",
            "17        22\n",
            "18        11\n",
            "19         1\n",
            "Name: ps_calc_11, dtype: int64\n",
            "---\n",
            "1     203280\n",
            "2     145321\n",
            "0     141001\n",
            "3      70351\n",
            "4      25778\n",
            "5       7290\n",
            "6       1724\n",
            "7        387\n",
            "8         66\n",
            "9         11\n",
            "10         3\n",
            "Name: ps_calc_12, dtype: int64\n",
            "---\n",
            "2     139334\n",
            "3     132412\n",
            "1      96661\n",
            "4      95753\n",
            "5      54560\n",
            "0      33658\n",
            "6      26326\n",
            "7      11003\n",
            "8       3882\n",
            "9       1160\n",
            "10       351\n",
            "11        88\n",
            "12        20\n",
            "13         4\n",
            "Name: ps_calc_13, dtype: int64\n",
            "---\n",
            "7     86673\n",
            "8     82177\n",
            "6     80897\n",
            "9     68487\n",
            "5     64029\n",
            "10    52049\n",
            "4     42596\n",
            "11    35341\n",
            "3     22825\n",
            "12    22227\n",
            "13    12883\n",
            "2      8942\n",
            "14     6934\n",
            "15     3536\n",
            "1      2398\n",
            "16     1666\n",
            "17      735\n",
            "0       310\n",
            "18      305\n",
            "19      131\n",
            "20       47\n",
            "21       18\n",
            "22        5\n",
            "23        1\n",
            "Name: ps_calc_14, dtype: int64\n",
            "---\n"
          ]
        }
      ]
    },
    {
      "cell_type": "code",
      "metadata": {
        "colab": {
          "base_uri": "https://localhost:8080/",
          "height": 542
        },
        "id": "csNNTm4VW1Iz",
        "outputId": "a23e19cd-b9d1-4e8a-8e1d-90b0a2e6a19c"
      },
      "source": [
        "zero = []\n",
        "one = []\n",
        "two = []\n",
        "three = []\n",
        "four = []\n",
        "for col in measurement_scale['ordinal']:\n",
        "    zero.append((data[col] == 0).sum())\n",
        "    one.append((data[col] == 1).sum())\n",
        "    two.append((data[col] == 2).sum())\n",
        "    three.append((data[col] == 3).sum())\n",
        "\n",
        "\n",
        "trace1 = go.Bar(\n",
        "    x=measurement_scale['ordinal'],\n",
        "    y=zero ,\n",
        "    name='Zero count'\n",
        ")\n",
        "trace2 = go.Bar(\n",
        "    x=measurement_scale['ordinal'],\n",
        "    y=one,\n",
        "    name='One count'\n",
        ")\n",
        "trace3 = go.Bar(\n",
        "    x=measurement_scale['ordinal'],\n",
        "    y=two,\n",
        "    name='two count'\n",
        ")\n",
        "trace4 = go.Bar(\n",
        "    x=measurement_scale['ordinal'],\n",
        "    y=three,\n",
        "    name='three count'\n",
        ")\n",
        "\n",
        "data_ = [trace1, trace2,trace3,trace4]\n",
        "layout = go.Layout(\n",
        "    barmode='stack',\n",
        "    title='Count for first 4 classes in ordinal varibles'\n",
        ")\n",
        "\n",
        "fig = go.Figure(data=data_, layout=layout)\n",
        "py.iplot(fig, filename='stacked-bar')\n",
        "\n"
      ],
      "execution_count": null,
      "outputs": [
        {
          "output_type": "display_data",
          "data": {
            "text/html": [
              "<html>\n",
              "<head><meta charset=\"utf-8\" /></head>\n",
              "<body>\n",
              "    <div>\n",
              "            <script src=\"https://cdnjs.cloudflare.com/ajax/libs/mathjax/2.7.5/MathJax.js?config=TeX-AMS-MML_SVG\"></script><script type=\"text/javascript\">if (window.MathJax) {MathJax.Hub.Config({SVG: {font: \"STIX-Web\"}});}</script>\n",
              "                <script type=\"text/javascript\">window.PlotlyConfig = {MathJaxConfig: 'local'};</script>\n",
              "        <script src=\"https://cdn.plot.ly/plotly-latest.min.js\"></script>    \n",
              "            <div id=\"04101a84-4021-4a32-9984-facd445ee0f3\" class=\"plotly-graph-div\" style=\"height:525px; width:100%;\"></div>\n",
              "            <script type=\"text/javascript\">\n",
              "                \n",
              "                    window.PLOTLYENV=window.PLOTLYENV || {};\n",
              "                    \n",
              "                if (document.getElementById(\"04101a84-4021-4a32-9984-facd445ee0f3\")) {\n",
              "                    Plotly.newPlot(\n",
              "                        '04101a84-4021-4a32-9984-facd445ee0f3',\n",
              "                        [{\"name\": \"Zero count\", \"type\": \"bar\", \"x\": [\"ps_ind_01\", \"ps_ind_03\", \"ps_ind_14\", \"ps_ind_15\", \"ps_car_11\", \"ps_calc_04\", \"ps_calc_05\", \"ps_calc_06\", \"ps_calc_07\", \"ps_calc_08\", \"ps_calc_09\", \"ps_calc_10\", \"ps_calc_11\", \"ps_calc_12\", \"ps_calc_13\", \"ps_calc_14\"], \"y\": [187594, 15514, 588832, 31826, 25983, 23912, 61226, 1, 15290, 0, 34479, 139, 2461, 141001, 33658, 310]}, {\"name\": \"One count\", \"type\": \"bar\", \"x\": [\"ps_ind_01\", \"ps_ind_03\", \"ps_ind_14\", \"ps_ind_15\", \"ps_car_11\", \"ps_calc_04\", \"ps_calc_05\", \"ps_calc_06\", \"ps_calc_07\", \"ps_calc_08\", \"ps_calc_09\", \"ps_calc_10\", \"ps_calc_11\", \"ps_calc_12\", \"ps_calc_13\", \"ps_calc_14\"], \"y\": [143984, 67994, 5495, 11617, 60952, 108012, 170860, 6, 69309, 0, 121391, 1107, 14035, 203280, 96661, 2398]}, {\"name\": \"two count\", \"type\": \"bar\", \"x\": [\"ps_ind_01\", \"ps_ind_03\", \"ps_ind_14\", \"ps_ind_15\", \"ps_car_11\", \"ps_calc_04\", \"ps_calc_05\", \"ps_calc_06\", \"ps_calc_07\", \"ps_calc_08\", \"ps_calc_09\", \"ps_calc_10\", \"ps_calc_11\", \"ps_calc_12\", \"ps_calc_13\", \"ps_calc_14\"], \"y\": [82468, 96110, 744, 18675, 189353, 193977, 195160, 132, 139101, 10, 182519, 4566, 38364, 145321, 139334, 8942]}, {\"name\": \"three count\", \"type\": \"bar\", \"x\": [\"ps_ind_01\", \"ps_ind_03\", \"ps_ind_14\", \"ps_ind_15\", \"ps_car_11\", \"ps_calc_04\", \"ps_calc_05\", \"ps_calc_06\", \"ps_calc_07\", \"ps_calc_08\", \"ps_calc_09\", \"ps_calc_10\", \"ps_calc_11\", \"ps_calc_12\", \"ps_calc_13\", \"ps_calc_14\"], \"y\": [51193, 81973, 136, 32267, 318919, 175512, 119192, 1199, 162414, 90, 152829, 12981, 69519, 70351, 132412, 22825]}],\n",
              "                        {\"barmode\": \"stack\", \"template\": {\"data\": {\"bar\": [{\"error_x\": {\"color\": \"#2a3f5f\"}, \"error_y\": {\"color\": \"#2a3f5f\"}, \"marker\": {\"line\": {\"color\": \"#E5ECF6\", \"width\": 0.5}}, \"type\": \"bar\"}], \"barpolar\": [{\"marker\": {\"line\": {\"color\": \"#E5ECF6\", \"width\": 0.5}}, \"type\": \"barpolar\"}], \"carpet\": [{\"aaxis\": {\"endlinecolor\": \"#2a3f5f\", \"gridcolor\": \"white\", \"linecolor\": \"white\", \"minorgridcolor\": \"white\", \"startlinecolor\": \"#2a3f5f\"}, \"baxis\": {\"endlinecolor\": \"#2a3f5f\", \"gridcolor\": \"white\", \"linecolor\": \"white\", \"minorgridcolor\": \"white\", \"startlinecolor\": \"#2a3f5f\"}, \"type\": \"carpet\"}], \"choropleth\": [{\"colorbar\": {\"outlinewidth\": 0, \"ticks\": \"\"}, \"type\": \"choropleth\"}], \"contour\": [{\"colorbar\": {\"outlinewidth\": 0, \"ticks\": \"\"}, \"colorscale\": [[0.0, \"#0d0887\"], [0.1111111111111111, \"#46039f\"], [0.2222222222222222, \"#7201a8\"], [0.3333333333333333, \"#9c179e\"], [0.4444444444444444, \"#bd3786\"], [0.5555555555555556, \"#d8576b\"], [0.6666666666666666, \"#ed7953\"], [0.7777777777777778, \"#fb9f3a\"], [0.8888888888888888, \"#fdca26\"], [1.0, \"#f0f921\"]], \"type\": \"contour\"}], \"contourcarpet\": [{\"colorbar\": {\"outlinewidth\": 0, \"ticks\": \"\"}, \"type\": \"contourcarpet\"}], \"heatmap\": [{\"colorbar\": {\"outlinewidth\": 0, \"ticks\": \"\"}, \"colorscale\": [[0.0, \"#0d0887\"], [0.1111111111111111, \"#46039f\"], [0.2222222222222222, \"#7201a8\"], [0.3333333333333333, \"#9c179e\"], [0.4444444444444444, \"#bd3786\"], [0.5555555555555556, \"#d8576b\"], [0.6666666666666666, \"#ed7953\"], [0.7777777777777778, \"#fb9f3a\"], [0.8888888888888888, \"#fdca26\"], [1.0, \"#f0f921\"]], \"type\": \"heatmap\"}], \"heatmapgl\": [{\"colorbar\": {\"outlinewidth\": 0, \"ticks\": \"\"}, \"colorscale\": [[0.0, \"#0d0887\"], [0.1111111111111111, \"#46039f\"], [0.2222222222222222, \"#7201a8\"], [0.3333333333333333, \"#9c179e\"], [0.4444444444444444, \"#bd3786\"], [0.5555555555555556, \"#d8576b\"], [0.6666666666666666, \"#ed7953\"], [0.7777777777777778, \"#fb9f3a\"], [0.8888888888888888, \"#fdca26\"], [1.0, \"#f0f921\"]], \"type\": \"heatmapgl\"}], \"histogram\": [{\"marker\": {\"colorbar\": {\"outlinewidth\": 0, \"ticks\": \"\"}}, \"type\": \"histogram\"}], \"histogram2d\": [{\"colorbar\": {\"outlinewidth\": 0, \"ticks\": \"\"}, \"colorscale\": [[0.0, \"#0d0887\"], [0.1111111111111111, \"#46039f\"], [0.2222222222222222, \"#7201a8\"], [0.3333333333333333, \"#9c179e\"], [0.4444444444444444, \"#bd3786\"], [0.5555555555555556, \"#d8576b\"], [0.6666666666666666, \"#ed7953\"], [0.7777777777777778, \"#fb9f3a\"], [0.8888888888888888, \"#fdca26\"], [1.0, \"#f0f921\"]], \"type\": \"histogram2d\"}], \"histogram2dcontour\": [{\"colorbar\": {\"outlinewidth\": 0, \"ticks\": \"\"}, \"colorscale\": [[0.0, \"#0d0887\"], [0.1111111111111111, \"#46039f\"], [0.2222222222222222, \"#7201a8\"], [0.3333333333333333, \"#9c179e\"], [0.4444444444444444, \"#bd3786\"], [0.5555555555555556, \"#d8576b\"], [0.6666666666666666, \"#ed7953\"], [0.7777777777777778, \"#fb9f3a\"], [0.8888888888888888, \"#fdca26\"], [1.0, \"#f0f921\"]], \"type\": \"histogram2dcontour\"}], \"mesh3d\": [{\"colorbar\": {\"outlinewidth\": 0, \"ticks\": \"\"}, \"type\": \"mesh3d\"}], \"parcoords\": [{\"line\": {\"colorbar\": {\"outlinewidth\": 0, \"ticks\": \"\"}}, \"type\": \"parcoords\"}], \"pie\": [{\"automargin\": true, \"type\": \"pie\"}], \"scatter\": [{\"marker\": {\"colorbar\": {\"outlinewidth\": 0, \"ticks\": \"\"}}, \"type\": \"scatter\"}], \"scatter3d\": [{\"line\": {\"colorbar\": {\"outlinewidth\": 0, \"ticks\": \"\"}}, \"marker\": {\"colorbar\": {\"outlinewidth\": 0, \"ticks\": \"\"}}, \"type\": \"scatter3d\"}], \"scattercarpet\": [{\"marker\": {\"colorbar\": {\"outlinewidth\": 0, \"ticks\": \"\"}}, \"type\": \"scattercarpet\"}], \"scattergeo\": [{\"marker\": {\"colorbar\": {\"outlinewidth\": 0, \"ticks\": \"\"}}, \"type\": \"scattergeo\"}], \"scattergl\": [{\"marker\": {\"colorbar\": {\"outlinewidth\": 0, \"ticks\": \"\"}}, \"type\": \"scattergl\"}], \"scattermapbox\": [{\"marker\": {\"colorbar\": {\"outlinewidth\": 0, \"ticks\": \"\"}}, \"type\": \"scattermapbox\"}], \"scatterpolar\": [{\"marker\": {\"colorbar\": {\"outlinewidth\": 0, \"ticks\": \"\"}}, \"type\": \"scatterpolar\"}], \"scatterpolargl\": [{\"marker\": {\"colorbar\": {\"outlinewidth\": 0, \"ticks\": \"\"}}, \"type\": \"scatterpolargl\"}], \"scatterternary\": [{\"marker\": {\"colorbar\": {\"outlinewidth\": 0, \"ticks\": \"\"}}, \"type\": \"scatterternary\"}], \"surface\": [{\"colorbar\": {\"outlinewidth\": 0, \"ticks\": \"\"}, \"colorscale\": [[0.0, \"#0d0887\"], [0.1111111111111111, \"#46039f\"], [0.2222222222222222, \"#7201a8\"], [0.3333333333333333, \"#9c179e\"], [0.4444444444444444, \"#bd3786\"], [0.5555555555555556, \"#d8576b\"], [0.6666666666666666, \"#ed7953\"], [0.7777777777777778, \"#fb9f3a\"], [0.8888888888888888, \"#fdca26\"], [1.0, \"#f0f921\"]], \"type\": \"surface\"}], \"table\": [{\"cells\": {\"fill\": {\"color\": \"#EBF0F8\"}, \"line\": {\"color\": \"white\"}}, \"header\": {\"fill\": {\"color\": \"#C8D4E3\"}, \"line\": {\"color\": \"white\"}}, \"type\": \"table\"}]}, \"layout\": {\"annotationdefaults\": {\"arrowcolor\": \"#2a3f5f\", \"arrowhead\": 0, \"arrowwidth\": 1}, \"coloraxis\": {\"colorbar\": {\"outlinewidth\": 0, \"ticks\": \"\"}}, \"colorscale\": {\"diverging\": [[0, \"#8e0152\"], [0.1, \"#c51b7d\"], [0.2, \"#de77ae\"], [0.3, \"#f1b6da\"], [0.4, \"#fde0ef\"], [0.5, \"#f7f7f7\"], [0.6, \"#e6f5d0\"], [0.7, \"#b8e186\"], [0.8, \"#7fbc41\"], [0.9, \"#4d9221\"], [1, \"#276419\"]], \"sequential\": [[0.0, \"#0d0887\"], [0.1111111111111111, \"#46039f\"], [0.2222222222222222, \"#7201a8\"], [0.3333333333333333, \"#9c179e\"], [0.4444444444444444, \"#bd3786\"], [0.5555555555555556, \"#d8576b\"], [0.6666666666666666, \"#ed7953\"], [0.7777777777777778, \"#fb9f3a\"], [0.8888888888888888, \"#fdca26\"], [1.0, \"#f0f921\"]], \"sequentialminus\": [[0.0, \"#0d0887\"], [0.1111111111111111, \"#46039f\"], [0.2222222222222222, \"#7201a8\"], [0.3333333333333333, \"#9c179e\"], [0.4444444444444444, \"#bd3786\"], [0.5555555555555556, \"#d8576b\"], [0.6666666666666666, \"#ed7953\"], [0.7777777777777778, \"#fb9f3a\"], [0.8888888888888888, \"#fdca26\"], [1.0, \"#f0f921\"]]}, \"colorway\": [\"#636efa\", \"#EF553B\", \"#00cc96\", \"#ab63fa\", \"#FFA15A\", \"#19d3f3\", \"#FF6692\", \"#B6E880\", \"#FF97FF\", \"#FECB52\"], \"font\": {\"color\": \"#2a3f5f\"}, \"geo\": {\"bgcolor\": \"white\", \"lakecolor\": \"white\", \"landcolor\": \"#E5ECF6\", \"showlakes\": true, \"showland\": true, \"subunitcolor\": \"white\"}, \"hoverlabel\": {\"align\": \"left\"}, \"hovermode\": \"closest\", \"mapbox\": {\"style\": \"light\"}, \"paper_bgcolor\": \"white\", \"plot_bgcolor\": \"#E5ECF6\", \"polar\": {\"angularaxis\": {\"gridcolor\": \"white\", \"linecolor\": \"white\", \"ticks\": \"\"}, \"bgcolor\": \"#E5ECF6\", \"radialaxis\": {\"gridcolor\": \"white\", \"linecolor\": \"white\", \"ticks\": \"\"}}, \"scene\": {\"xaxis\": {\"backgroundcolor\": \"#E5ECF6\", \"gridcolor\": \"white\", \"gridwidth\": 2, \"linecolor\": \"white\", \"showbackground\": true, \"ticks\": \"\", \"zerolinecolor\": \"white\"}, \"yaxis\": {\"backgroundcolor\": \"#E5ECF6\", \"gridcolor\": \"white\", \"gridwidth\": 2, \"linecolor\": \"white\", \"showbackground\": true, \"ticks\": \"\", \"zerolinecolor\": \"white\"}, \"zaxis\": {\"backgroundcolor\": \"#E5ECF6\", \"gridcolor\": \"white\", \"gridwidth\": 2, \"linecolor\": \"white\", \"showbackground\": true, \"ticks\": \"\", \"zerolinecolor\": \"white\"}}, \"shapedefaults\": {\"line\": {\"color\": \"#2a3f5f\"}}, \"ternary\": {\"aaxis\": {\"gridcolor\": \"white\", \"linecolor\": \"white\", \"ticks\": \"\"}, \"baxis\": {\"gridcolor\": \"white\", \"linecolor\": \"white\", \"ticks\": \"\"}, \"bgcolor\": \"#E5ECF6\", \"caxis\": {\"gridcolor\": \"white\", \"linecolor\": \"white\", \"ticks\": \"\"}}, \"title\": {\"x\": 0.05}, \"xaxis\": {\"automargin\": true, \"gridcolor\": \"white\", \"linecolor\": \"white\", \"ticks\": \"\", \"title\": {\"standoff\": 15}, \"zerolinecolor\": \"white\", \"zerolinewidth\": 2}, \"yaxis\": {\"automargin\": true, \"gridcolor\": \"white\", \"linecolor\": \"white\", \"ticks\": \"\", \"title\": {\"standoff\": 15}, \"zerolinecolor\": \"white\", \"zerolinewidth\": 2}}}, \"title\": {\"text\": \"Count for first 4 classes in ordinal varibles\"}},\n",
              "                        {\"responsive\": true}\n",
              "                    ).then(function(){\n",
              "                            \n",
              "var gd = document.getElementById('04101a84-4021-4a32-9984-facd445ee0f3');\n",
              "var x = new MutationObserver(function (mutations, observer) {{\n",
              "        var display = window.getComputedStyle(gd).display;\n",
              "        if (!display || display === 'none') {{\n",
              "            console.log([gd, 'removed!']);\n",
              "            Plotly.purge(gd);\n",
              "            observer.disconnect();\n",
              "        }}\n",
              "}});\n",
              "\n",
              "// Listen for the removal of the full notebook cells\n",
              "var notebookContainer = gd.closest('#notebook-container');\n",
              "if (notebookContainer) {{\n",
              "    x.observe(notebookContainer, {childList: true});\n",
              "}}\n",
              "\n",
              "// Listen for the clearing of the current output cell\n",
              "var outputEl = gd.closest('.output');\n",
              "if (outputEl) {{\n",
              "    x.observe(outputEl, {childList: true});\n",
              "}}\n",
              "\n",
              "                        })\n",
              "                };\n",
              "                \n",
              "            </script>\n",
              "        </div>\n",
              "</body>\n",
              "</html>"
            ]
          },
          "metadata": {}
        }
      ]
    },
    {
      "cell_type": "markdown",
      "metadata": {
        "id": "wNNJOungkGU6"
      },
      "source": [
        "4 class at least for each column"
      ]
    },
    {
      "cell_type": "code",
      "metadata": {
        "id": "z29PYlRNkKJN",
        "colab": {
          "base_uri": "https://localhost:8080/"
        },
        "outputId": "5d7424f5-85c4-4c1b-ec34-307d0ec3a112"
      },
      "source": [
        "# Look at the values and their number for each column\n",
        "for col in interval_data:\n",
        "  print(interval_data[col].value_counts())\n",
        "  print('---')"
      ],
      "execution_count": null,
      "outputs": [
        {
          "output_type": "stream",
          "name": "stdout",
          "text": [
            "0.9    194608\n",
            "0.7     67897\n",
            "0.8     60277\n",
            "0.6     56243\n",
            "0.4     53569\n",
            "0.1     43192\n",
            "0.3     40290\n",
            "0.5     32341\n",
            "0.2     25113\n",
            "0.0     21682\n",
            "Name: ps_reg_01, dtype: int64\n",
            "---\n",
            "0.2    114886\n",
            "0.3     95033\n",
            "0.0     89297\n",
            "0.4     59746\n",
            "0.5     36528\n",
            "0.6     33474\n",
            "0.1     31816\n",
            "0.7     21210\n",
            "0.8     19907\n",
            "0.9     16788\n",
            "1.2     15843\n",
            "1.0     12570\n",
            "1.3     11761\n",
            "1.1     11321\n",
            "1.4      6877\n",
            "1.5      5845\n",
            "1.6      5095\n",
            "1.8      4737\n",
            "1.7      2478\n",
            "Name: ps_reg_02, dtype: int64\n",
            "---\n",
            "-1.000000    107772\n",
            " 0.633936       664\n",
            " 0.602599       637\n",
            " 0.704894       627\n",
            " 0.587899       616\n",
            "              ...  \n",
            " 1.530114         1\n",
            " 1.518017         1\n",
            " 2.039301         1\n",
            " 1.620764         1\n",
            " 1.578369         1\n",
            "Name: ps_reg_03, Length: 5013, dtype: int64\n",
            "---\n",
            "0.316228    170579\n",
            "0.400000    111873\n",
            "0.374166     98598\n",
            "0.447214     49318\n",
            "0.424264     49293\n",
            "             ...  \n",
            "0.370405         1\n",
            "0.699428         1\n",
            "0.479062         1\n",
            "0.591439         1\n",
            "0.581206         1\n",
            "Name: ps_car_12, Length: 184, dtype: int64\n",
            "---\n",
            "0.674583    386\n",
            "0.741689    377\n",
            "0.692776    363\n",
            "0.841781    362\n",
            "0.749228    353\n",
            "           ... \n",
            "0.684721      1\n",
            "0.905714      1\n",
            "1.560164      1\n",
            "0.626350      1\n",
            "0.500000      1\n",
            "Name: ps_car_13, Length: 70482, dtype: int64\n",
            "---\n",
            "-1.000000    42620\n",
            " 0.361525    17696\n",
            " 0.358329    15523\n",
            " 0.361939    11885\n",
            " 0.368782    11626\n",
            "             ...  \n",
            " 0.411461        1\n",
            " 0.414608        1\n",
            " 0.423320        1\n",
            " 0.302490        1\n",
            " 0.442154        1\n",
            "Name: ps_car_14, Length: 850, dtype: int64\n",
            "---\n",
            "3.605551    109765\n",
            "3.464102     77200\n",
            "3.316625     68737\n",
            "3.162278     63323\n",
            "3.741657     57757\n",
            "2.828427     48680\n",
            "3.000000     48537\n",
            "2.645751     30388\n",
            "2.449490     20445\n",
            "2.236068     19397\n",
            "0.000000     14186\n",
            "2.000000     12830\n",
            "1.732051     10744\n",
            "1.000000      6708\n",
            "1.414214      6515\n",
            "Name: ps_car_15, dtype: int64\n",
            "---\n",
            "0.6    59837\n",
            "0.0    59780\n",
            "0.8    59710\n",
            "0.5    59612\n",
            "0.7    59545\n",
            "0.2    59513\n",
            "0.1    59504\n",
            "0.3    59377\n",
            "0.4    59248\n",
            "0.9    59086\n",
            "Name: ps_calc_01, dtype: int64\n",
            "---\n",
            "0.5    60070\n",
            "0.4    59823\n",
            "0.0    59618\n",
            "0.3    59593\n",
            "0.7    59502\n",
            "0.6    59501\n",
            "0.2    59385\n",
            "0.1    59383\n",
            "0.9    59219\n",
            "0.8    59118\n",
            "Name: ps_calc_02, dtype: int64\n",
            "---\n",
            "0.1    60036\n",
            "0.5    59832\n",
            "0.3    59819\n",
            "0.6    59521\n",
            "0.8    59509\n",
            "0.9    59418\n",
            "0.7    59393\n",
            "0.0    59318\n",
            "0.4    59229\n",
            "0.2    59137\n",
            "Name: ps_calc_03, dtype: int64\n",
            "---\n"
          ]
        }
      ]
    },
    {
      "cell_type": "code",
      "metadata": {
        "colab": {
          "base_uri": "https://localhost:8080/"
        },
        "id": "ALIjXEOuP6_I",
        "outputId": "8dcfa19f-75ad-40f3-edfc-69a4e4ca8fdd"
      },
      "source": [
        "# to calculate maximum and minimum value for each column\n",
        "for col in interval_data: \n",
        "  print(col, max(data[col]),min(data[col]))"
      ],
      "execution_count": null,
      "outputs": [
        {
          "output_type": "stream",
          "name": "stdout",
          "text": [
            "ps_reg_01 0.9 0.0\n",
            "ps_reg_02 1.8 0.0\n",
            "ps_reg_03 4.037945022 -1.0\n",
            "ps_car_12 1.264911064 -1.0\n",
            "ps_car_13 3.720626003 0.250619068\n",
            "ps_car_14 0.6363961029999999 -1.0\n",
            "ps_car_15 3.741657387 0.0\n",
            "ps_calc_01 0.9 0.0\n",
            "ps_calc_02 0.9 0.0\n",
            "ps_calc_03 0.9 0.0\n"
          ]
        }
      ]
    },
    {
      "cell_type": "markdown",
      "metadata": {
        "id": "pKbWsr1alLHh"
      },
      "source": [
        "almost the range in interval columns data is between 0.0 and 4.037945022.<br> we have 4 columns in percent formula [0.0:0.9] ."
      ]
    },
    {
      "cell_type": "markdown",
      "metadata": {
        "id": "l0M4aUz1zT-X"
      },
      "source": [
        "### is the data balanced or imbalanced?"
      ]
    },
    {
      "cell_type": "code",
      "metadata": {
        "id": "NF3uDKedFi1j"
      },
      "source": [
        "target_count=data.target.value_counts()"
      ],
      "execution_count": null,
      "outputs": []
    },
    {
      "cell_type": "code",
      "metadata": {
        "id": "ucjk-MklFhDe",
        "colab": {
          "base_uri": "https://localhost:8080/"
        },
        "outputId": "1b7aab16-dc88-4a63-dbb1-bf5d5b86c0d3"
      },
      "source": [
        "print('Class 0:', target_count[0])\n",
        "print('Class 1:', target_count[1])"
      ],
      "execution_count": null,
      "outputs": [
        {
          "output_type": "stream",
          "name": "stdout",
          "text": [
            "Class 0: 573518\n",
            "Class 1: 21694\n"
          ]
        }
      ]
    },
    {
      "cell_type": "code",
      "metadata": {
        "id": "G87C-YvDf54F",
        "colab": {
          "base_uri": "https://localhost:8080/"
        },
        "outputId": "f2e36441-3ce7-4521-c64f-3b8e8c20f555"
      },
      "source": [
        "print('Proportion:', round(target_count[0] / target_count[1], 2), ': 1')\n",
        "(target_count *100)/len(data) # We note that a very small percentage of people clamid insurance"
      ],
      "execution_count": null,
      "outputs": [
        {
          "output_type": "stream",
          "name": "stdout",
          "text": [
            "Proportion: 26.44 : 1\n"
          ]
        },
        {
          "output_type": "execute_result",
          "data": {
            "text/plain": [
              "0    96.355248\n",
              "1     3.644752\n",
              "Name: target, dtype: float64"
            ]
          },
          "metadata": {},
          "execution_count": 64
        }
      ]
    },
    {
      "cell_type": "code",
      "metadata": {
        "id": "eGP2Y-22Ipya",
        "colab": {
          "base_uri": "https://localhost:8080/",
          "height": 295
        },
        "outputId": "87d8aa25-7505-43f1-d754-e285b9168edb"
      },
      "source": [
        "target_count.plot(kind='bar',title='values count in target')\n",
        "# sns.countplot(x=target_count)"
      ],
      "execution_count": null,
      "outputs": [
        {
          "output_type": "execute_result",
          "data": {
            "text/plain": [
              "<matplotlib.axes._subplots.AxesSubplot at 0x7fb4a4ab9710>"
            ]
          },
          "metadata": {},
          "execution_count": 65
        },
        {
          "output_type": "display_data",
          "data": {
            "image/png": "[encoded data removed]",
            "text/plain": [
              "<Figure size 432x288 with 1 Axes>"
            ]
          },
          "metadata": {
            "needs_background": "light"
          }
        }
      ]
    },
    {
      "cell_type": "markdown",
      "metadata": {
        "id": "2iw1Ikdi9vNs"
      },
      "source": [
        "as we see we have imbalanced data . so we will take some steps to make it balanced.<br>\n",
        "the famous way is resampling :<br> It consists of removing samples from the majority class (under-sampling) and / or adding more examples from the minority class (over-sampling)."
      ]
    },
    {
      "cell_type": "code",
      "metadata": {
        "id": "wfUXtMdt-CR8",
        "colab": {
          "base_uri": "https://localhost:8080/",
          "height": 347
        },
        "outputId": "a04c4b4a-58d7-458b-ffae-ec8e58fedb2d"
      },
      "source": [
        "df_class_0 = data[data['target'] == 0]\n",
        "df_class_1 = data[data['target'] == 1]\n",
        "\n",
        "count_class_0=len(df_class_0)\n",
        "count_class_1=len(df_class_1)\n",
        "\n",
        "df_class_0_under = df_class_0.sample(count_class_1)\n",
        "df_test_under = pd.concat([df_class_0_under, df_class_1], axis=0)\n",
        "\n",
        "print('Random under-sampling:')\n",
        "print(df_test_under.target.value_counts())\n",
        "\n",
        "df_test_under.target.value_counts().plot(kind='bar', title='Count (target)');\n"
      ],
      "execution_count": null,
      "outputs": [
        {
          "output_type": "stream",
          "name": "stdout",
          "text": [
            "Random under-sampling:\n",
            "1    21694\n",
            "0    21694\n",
            "Name: target, dtype: int64\n"
          ]
        },
        {
          "output_type": "display_data",
          "data": {
            "image/png": "[encoded data removed]",
            "text/plain": [
              "<Figure size 432x288 with 1 Axes>"
            ]
          },
          "metadata": {
            "needs_background": "light"
          }
        }
      ]
    },
    {
      "cell_type": "code",
      "metadata": {
        "id": "3ry9VrGoCKDQ",
        "colab": {
          "base_uri": "https://localhost:8080/",
          "height": 347
        },
        "outputId": "390c3b06-a15a-4ef9-e97d-1215f2d95157"
      },
      "source": [
        "df_class_1_over = df_class_1.sample(count_class_0, replace=True)\n",
        "df_test_over = pd.concat([df_class_0, df_class_1_over], axis=0)\n",
        "\n",
        "print('Random over-sampling:')\n",
        "print(df_test_over.target.value_counts())\n",
        "\n",
        "df_test_over.target.value_counts().plot(kind='bar', title='Count (target)');\n"
      ],
      "execution_count": null,
      "outputs": [
        {
          "output_type": "stream",
          "name": "stdout",
          "text": [
            "Random over-sampling:\n",
            "1    573518\n",
            "0    573518\n",
            "Name: target, dtype: int64\n"
          ]
        },
        {
          "output_type": "display_data",
          "data": {
            "image/png": "[encoded data removed]",
            "text/plain": [
              "<Figure size 432x288 with 1 Axes>"
            ]
          },
          "metadata": {
            "needs_background": "light"
          }
        }
      ]
    },
    {
      "cell_type": "code",
      "metadata": {
        "id": "k5gqPKyGCsvT",
        "colab": {
          "base_uri": "https://localhost:8080/"
        },
        "outputId": "2259025b-4b2c-400a-cadc-1c669b5cc2a7"
      },
      "source": [
        "# for make it 12% blanced \n",
        "\n",
        "# way 1 -- unnder sampling\n",
        "sample_f_class_0=int(np.ceil((count_class_1*88)/12))-1\n",
        "print(sample_f_class_0)\n",
        "df_class_0_under = df_class_0.sample(sample_f_class_0)\n",
        "df_test_under_12 = pd.concat([df_class_0_under, df_class_1], axis=0)\n",
        "\n",
        "print('12% under-sampling:')\n",
        "print(df_test_under_12.target.value_counts())\n",
        "print((df_test_under_12.target.value_counts() *100)/len(df_test_under_12))\n",
        "print(len(df_test_under_12))\n",
        "\n",
        "#way 2 -- over sampling \n",
        "\n",
        "all_counts=count_class_0+count_class_1\n",
        "sample_f_class_1=int(( all_counts*12)/100)+6782\n",
        "df_class_1_over = df_class_1.sample(sample_f_class_1, replace=True)\n",
        "df_test_over_12 = pd.concat([df_class_0, df_class_1_over], axis=0)\n",
        "\n",
        "print('12% over-sampling:')\n",
        "print(df_test_over_12.target.value_counts())\n",
        "print((df_test_over_12.target.value_counts() *100)/len(df_test_over_12))\n",
        "print(len(df_test_over_12))\n"
      ],
      "execution_count": null,
      "outputs": [
        {
          "output_type": "stream",
          "name": "stdout",
          "text": [
            "159089\n",
            "12% under-sampling:\n",
            "0    159089\n",
            "1     21694\n",
            "Name: target, dtype: int64\n",
            "0    87.999978\n",
            "1    12.000022\n",
            "Name: target, dtype: float64\n",
            "180783\n",
            "12% over-sampling:\n",
            "0    573518\n",
            "1     78207\n",
            "Name: target, dtype: int64\n",
            "0    88.0\n",
            "1    12.0\n",
            "Name: target, dtype: float64\n",
            "651725\n"
          ]
        }
      ]
    },
    {
      "cell_type": "code",
      "metadata": {
        "id": "NlDA9Y9hMAHb"
      },
      "source": [
        "new_data=df_test_over_12"
      ],
      "execution_count": null,
      "outputs": []
    },
    {
      "cell_type": "code",
      "metadata": {
        "id": "ejMSoRsybEaY",
        "colab": {
          "base_uri": "https://localhost:8080/"
        },
        "outputId": "a0124f26-ff32-4e79-8a60-756363805be7"
      },
      "source": [
        "columns_with_null=(new_data[new_data.isin([-1])].sum().sort_values())\n",
        "columns_with_null"
      ],
      "execution_count": null,
      "outputs": [
        {
          "output_type": "execute_result",
          "data": {
            "text/plain": [
              "ps_car_03_cat    -446460.0\n",
              "ps_car_05_cat    -288671.0\n",
              "ps_reg_03        -115815.0\n",
              "ps_car_14         -47080.0\n",
              "ps_car_07_cat     -13789.0\n",
              "ps_ind_05_cat      -7031.0\n",
              "ps_car_09_cat       -699.0\n",
              "ps_ind_02_cat       -305.0\n",
              "ps_car_01_cat       -180.0\n",
              "ps_ind_04_cat       -151.0\n",
              "ps_car_11             -5.0\n",
              "ps_car_12             -1.0\n",
              "ps_car_15              0.0\n",
              "ps_calc_01             0.0\n",
              "ps_calc_02             0.0\n",
              "ps_calc_03             0.0\n",
              "ps_car_13              0.0\n",
              "ps_calc_04             0.0\n",
              "ps_calc_06             0.0\n",
              "ps_calc_07             0.0\n",
              "ps_calc_08             0.0\n",
              "ps_calc_09             0.0\n",
              "ps_calc_10             0.0\n",
              "ps_calc_11             0.0\n",
              "ps_calc_12             0.0\n",
              "ps_calc_13             0.0\n",
              "ps_calc_14             0.0\n",
              "ps_calc_15_bin         0.0\n",
              "ps_calc_16_bin         0.0\n",
              "ps_calc_17_bin         0.0\n",
              "ps_calc_18_bin         0.0\n",
              "ps_calc_05             0.0\n",
              "ps_car_11_cat          0.0\n",
              "id                     0.0\n",
              "ps_car_08_cat          0.0\n",
              "target                 0.0\n",
              "ps_ind_01              0.0\n",
              "ps_ind_03              0.0\n",
              "ps_ind_06_bin          0.0\n",
              "ps_ind_07_bin          0.0\n",
              "ps_ind_08_bin          0.0\n",
              "ps_ind_09_bin          0.0\n",
              "ps_ind_10_bin          0.0\n",
              "ps_ind_11_bin          0.0\n",
              "ps_ind_12_bin          0.0\n",
              "ps_car_10_cat          0.0\n",
              "ps_ind_13_bin          0.0\n",
              "ps_ind_15              0.0\n",
              "ps_ind_16_bin          0.0\n",
              "ps_ind_17_bin          0.0\n",
              "ps_ind_18_bin          0.0\n",
              "ps_reg_01              0.0\n",
              "ps_reg_02              0.0\n",
              "ps_car_02_cat          0.0\n",
              "ps_car_04_cat          0.0\n",
              "ps_car_06_cat          0.0\n",
              "ps_calc_19_bin         0.0\n",
              "ps_ind_14              0.0\n",
              "ps_calc_20_bin         0.0\n",
              "dtype: float64"
            ]
          },
          "metadata": {},
          "execution_count": 70
        }
      ]
    },
    {
      "cell_type": "markdown",
      "metadata": {
        "id": "zDlQ4EPHgMiI"
      },
      "source": [
        "12 column [ps_car_03_cat,ps_car_05_cat]"
      ]
    },
    {
      "cell_type": "markdown",
      "metadata": {
        "id": "tWzsueg0Za2B"
      },
      "source": [
        "### Handaling null values"
      ]
    },
    {
      "cell_type": "code",
      "metadata": {
        "id": "ggXhh_u9Q2JV"
      },
      "source": [
        "columns_with_null=columns_with_null[:12] # to get only columns with null values"
      ],
      "execution_count": null,
      "outputs": []
    },
    {
      "cell_type": "code",
      "metadata": {
        "id": "1Q-NfLZrgAJ9",
        "colab": {
          "base_uri": "https://localhost:8080/"
        },
        "outputId": "0ce6d753-65b0-42d6-d37c-32b359865af2"
      },
      "source": [
        "data_len=len(new_data)\n",
        "for col , val in zip(columns_with_null.index,columns_with_null.values):\n",
        "  precent_null=(val*-100)/data_len\n",
        "  print(col,':',precent_null)\n",
        "  \n",
        "  if  precent_null>=60.0:\n",
        "    print('remove column :',col)\n",
        "    print('---')"
      ],
      "execution_count": null,
      "outputs": [
        {
          "output_type": "stream",
          "name": "stdout",
          "text": [
            "ps_car_03_cat : 68.5043538302198\n",
            "remove column : ps_car_03_cat\n",
            "---\n",
            "ps_car_05_cat : 44.29337527331313\n",
            "ps_reg_03 : 17.77053204956078\n",
            "ps_car_14 : 7.223905788484407\n",
            "ps_car_07_cat : 2.115769688135333\n",
            "ps_ind_05_cat : 1.078829260807856\n",
            "ps_car_09_cat : 0.10725382638382754\n",
            "ps_ind_02_cat : 0.04679887989566151\n",
            "ps_car_01_cat : 0.027619011085964172\n",
            "ps_ind_04_cat : 0.02316928152211439\n",
            "ps_car_11 : 0.0007671947523878936\n",
            "ps_car_12 : 0.00015343895047757874\n"
          ]
        }
      ]
    },
    {
      "cell_type": "markdown",
      "metadata": {
        "id": "aYHGzgztNHzn"
      },
      "source": [
        "now we will  delete ps_car_03_cat column  , predict the null values of ps_car_05_cat column, take the mean of [ps_reg_03,ps_car_14] columns and finally delete the rows with null values  for the remaining columns"
      ]
    },
    {
      "cell_type": "code",
      "metadata": {
        "colab": {
          "base_uri": "https://localhost:8080/"
        },
        "id": "XziU-Tl-QbD-",
        "outputId": "6ed10ea3-0533-4b87-9ef4-c8e9f502e65c"
      },
      "source": [
        "new_data.drop('ps_car_03_cat',axis=1,inplace=True) \n",
        "\n",
        "new_data.ps_reg_03.replace(-1,np.mean(new_data.ps_reg_03),inplace=True)\n",
        "new_data.ps_car_14.replace(-1,np.mean(new_data.ps_car_14),inplace=True)\n",
        "\n",
        "# splitting data to data_to_predict that contains -1 as target and data_to_train that is haven't -1\n",
        "\n",
        "to_predict=new_data[new_data.ps_car_05_cat.isin([-1])]\n",
        "to_train=new_data[~new_data.ps_car_05_cat.isin([-1])]\n",
        "X_train,y_train=to_train.drop(['ps_car_05_cat','id'],axis=1),to_train.ps_car_05_cat\n",
        "X_test,y_test=to_predict.drop(['ps_car_05_cat','id'],axis=1),to_predict.ps_car_05_cat\n",
        "model=RandomForestClassifier() # we got the best accuracy with random forest\n",
        "model.fit(X_train,y_train)\n",
        "y_pred=model.predict(X_test)\n",
        "new_data.loc[new_data.ps_car_05_cat.isin([-1]),'ps_car_05_cat']=y_pred\n",
        "print(new_data.ps_car_05_cat.value_counts())\n",
        "\n",
        "new_data.replace(-1,np.NaN,inplace=True)\n",
        "\n",
        "new_data.dropna(inplace=True)"
      ],
      "execution_count": null,
      "outputs": [
        {
          "output_type": "stream",
          "name": "stdout",
          "text": [
            "1    333449\n",
            "0    318276\n",
            "Name: ps_car_05_cat, dtype: int64\n"
          ]
        }
      ]
    },
    {
      "cell_type": "code",
      "metadata": {
        "colab": {
          "base_uri": "https://localhost:8080/"
        },
        "id": "vITbtP4xSRYm",
        "outputId": "f47351fa-9c98-4d32-ae6f-a4ee5f9f76ab"
      },
      "source": [
        "(new_data[new_data.isin([-1])].sum().sort_values()) #to check from the result "
      ],
      "execution_count": null,
      "outputs": [
        {
          "output_type": "execute_result",
          "data": {
            "text/plain": [
              "id                0.0\n",
              "ps_car_10_cat     0.0\n",
              "ps_car_11_cat     0.0\n",
              "ps_car_11         0.0\n",
              "ps_car_12         0.0\n",
              "ps_car_13         0.0\n",
              "ps_car_14         0.0\n",
              "ps_car_15         0.0\n",
              "ps_calc_01        0.0\n",
              "ps_calc_02        0.0\n",
              "ps_calc_03        0.0\n",
              "ps_calc_04        0.0\n",
              "ps_calc_05        0.0\n",
              "ps_calc_06        0.0\n",
              "ps_calc_07        0.0\n",
              "ps_calc_08        0.0\n",
              "ps_calc_09        0.0\n",
              "ps_calc_10        0.0\n",
              "ps_calc_11        0.0\n",
              "ps_calc_12        0.0\n",
              "ps_calc_13        0.0\n",
              "ps_calc_14        0.0\n",
              "ps_calc_15_bin    0.0\n",
              "ps_calc_16_bin    0.0\n",
              "ps_calc_17_bin    0.0\n",
              "ps_calc_18_bin    0.0\n",
              "ps_car_09_cat     0.0\n",
              "ps_car_08_cat     0.0\n",
              "ps_car_07_cat     0.0\n",
              "ps_car_06_cat     0.0\n",
              "target            0.0\n",
              "ps_ind_01         0.0\n",
              "ps_ind_02_cat     0.0\n",
              "ps_ind_03         0.0\n",
              "ps_ind_04_cat     0.0\n",
              "ps_ind_05_cat     0.0\n",
              "ps_ind_06_bin     0.0\n",
              "ps_ind_07_bin     0.0\n",
              "ps_ind_08_bin     0.0\n",
              "ps_ind_09_bin     0.0\n",
              "ps_ind_10_bin     0.0\n",
              "ps_ind_11_bin     0.0\n",
              "ps_calc_19_bin    0.0\n",
              "ps_ind_12_bin     0.0\n",
              "ps_ind_14         0.0\n",
              "ps_ind_15         0.0\n",
              "ps_ind_16_bin     0.0\n",
              "ps_ind_17_bin     0.0\n",
              "ps_ind_18_bin     0.0\n",
              "ps_reg_01         0.0\n",
              "ps_reg_02         0.0\n",
              "ps_reg_03         0.0\n",
              "ps_car_01_cat     0.0\n",
              "ps_car_02_cat     0.0\n",
              "ps_car_04_cat     0.0\n",
              "ps_car_05_cat     0.0\n",
              "ps_ind_13_bin     0.0\n",
              "ps_calc_20_bin    0.0\n",
              "dtype: float64"
            ]
          },
          "metadata": {},
          "execution_count": 75
        }
      ]
    },
    {
      "cell_type": "code",
      "metadata": {
        "colab": {
          "base_uri": "https://localhost:8080/"
        },
        "id": "y7YjaZcwTBcZ",
        "outputId": "ce2a66cb-aec4-468b-9889-8de02505b7c0"
      },
      "source": [
        "(new_data.isnull().sum().sort_values())"
      ],
      "execution_count": null,
      "outputs": [
        {
          "output_type": "execute_result",
          "data": {
            "text/plain": [
              "id                0\n",
              "ps_car_10_cat     0\n",
              "ps_car_11_cat     0\n",
              "ps_car_11         0\n",
              "ps_car_12         0\n",
              "ps_car_13         0\n",
              "ps_car_14         0\n",
              "ps_car_15         0\n",
              "ps_calc_01        0\n",
              "ps_calc_02        0\n",
              "ps_calc_03        0\n",
              "ps_calc_04        0\n",
              "ps_calc_05        0\n",
              "ps_calc_06        0\n",
              "ps_calc_07        0\n",
              "ps_calc_08        0\n",
              "ps_calc_09        0\n",
              "ps_calc_10        0\n",
              "ps_calc_11        0\n",
              "ps_calc_12        0\n",
              "ps_calc_13        0\n",
              "ps_calc_14        0\n",
              "ps_calc_15_bin    0\n",
              "ps_calc_16_bin    0\n",
              "ps_calc_17_bin    0\n",
              "ps_calc_18_bin    0\n",
              "ps_car_09_cat     0\n",
              "ps_car_08_cat     0\n",
              "ps_car_07_cat     0\n",
              "ps_car_06_cat     0\n",
              "target            0\n",
              "ps_ind_01         0\n",
              "ps_ind_02_cat     0\n",
              "ps_ind_03         0\n",
              "ps_ind_04_cat     0\n",
              "ps_ind_05_cat     0\n",
              "ps_ind_06_bin     0\n",
              "ps_ind_07_bin     0\n",
              "ps_ind_08_bin     0\n",
              "ps_ind_09_bin     0\n",
              "ps_ind_10_bin     0\n",
              "ps_ind_11_bin     0\n",
              "ps_calc_19_bin    0\n",
              "ps_ind_12_bin     0\n",
              "ps_ind_14         0\n",
              "ps_ind_15         0\n",
              "ps_ind_16_bin     0\n",
              "ps_ind_17_bin     0\n",
              "ps_ind_18_bin     0\n",
              "ps_reg_01         0\n",
              "ps_reg_02         0\n",
              "ps_reg_03         0\n",
              "ps_car_01_cat     0\n",
              "ps_car_02_cat     0\n",
              "ps_car_04_cat     0\n",
              "ps_car_05_cat     0\n",
              "ps_ind_13_bin     0\n",
              "ps_calc_20_bin    0\n",
              "dtype: int64"
            ]
          },
          "metadata": {},
          "execution_count": 76
        }
      ]
    },
    {
      "cell_type": "markdown",
      "metadata": {
        "id": "aAH97sg73DBa"
      },
      "source": [
        "### Data correlation"
      ]
    },
    {
      "cell_type": "code",
      "metadata": {
        "id": "uK_eUgHMq7Fz",
        "colab": {
          "base_uri": "https://localhost:8080/",
          "height": 1000
        },
        "outputId": "08a585b2-2db6-4b3e-a766-15780ae4f3bb"
      },
      "source": [
        "plt.figure(figsize=(20,20))\n",
        "sns.heatmap(new_data.corr())"
      ],
      "execution_count": null,
      "outputs": [
        {
          "output_type": "execute_result",
          "data": {
            "text/plain": [
              "<matplotlib.axes._subplots.AxesSubplot at 0x7fb4a8200410>"
            ]
          },
          "metadata": {},
          "execution_count": 77
        },
        {
          "output_type": "display_data",
          "data": {
            "image/png": "[encoded data removed]",
            "text/plain": [
              "<Figure size 1440x1440 with 2 Axes>"
            ]
          },
          "metadata": {
            "needs_background": "light"
          }
        }
      ]
    },
    {
      "cell_type": "code",
      "metadata": {
        "colab": {
          "base_uri": "https://localhost:8080/"
        },
        "id": "eJiqroHzRj5O",
        "outputId": "ef81cfa0-1dc4-48e6-80e5-a56874f3073b"
      },
      "source": [
        "max(new_data.corr()['target'][2:]),min((new_data.corr()['target']))"
      ],
      "execution_count": null,
      "outputs": [
        {
          "output_type": "execute_result",
          "data": {
            "text/plain": [
              "(0.08771015857576792, -0.05694959153730914)"
            ]
          },
          "metadata": {},
          "execution_count": 78
        }
      ]
    },
    {
      "cell_type": "markdown",
      "metadata": {
        "id": "OgBKe7CuaTJp"
      },
      "source": [
        "as we see calc columns don't affect on the target and all  remaing features has small affect that maybe make the prediction hard. "
      ]
    },
    {
      "cell_type": "markdown",
      "metadata": {
        "id": "qXHJqSIb3dmj"
      },
      "source": [
        "#### Which interval variables have strong correlation?"
      ]
    },
    {
      "cell_type": "code",
      "metadata": {
        "colab": {
          "base_uri": "https://localhost:8080/",
          "height": 330
        },
        "id": "KilGbWGsbMJg",
        "outputId": "850bf1d4-b7c7-485c-db10-a6ba744ecb89"
      },
      "source": [
        "interval_data_and_target=new_data[measurement_scale['interval']]\n",
        "interval_data_and_target['target']=new_data.target\n",
        "# plt.figure(figsize=(10,10))\n",
        "sns.heatmap(interval_data_and_target.corr())"
      ],
      "execution_count": null,
      "outputs": [
        {
          "output_type": "execute_result",
          "data": {
            "text/plain": [
              "<matplotlib.axes._subplots.AxesSubplot at 0x7fb4a4b33110>"
            ]
          },
          "metadata": {},
          "execution_count": 82
        },
        {
          "output_type": "display_data",
          "data": {
            "image/png": "[encoded data removed]",
            "text/plain": [
              "<Figure size 432x288 with 2 Axes>"
            ]
          },
          "metadata": {
            "needs_background": "light"
          }
        }
      ]
    },
    {
      "cell_type": "markdown",
      "metadata": {
        "id": "O-2l5Utzcepq"
      },
      "source": [
        "ps_car_13 has strong relation with target .<br>\n",
        "And between them  [ps_car_13 ->ps_car_12]"
      ]
    },
    {
      "cell_type": "markdown",
      "metadata": {
        "id": "wErj0icX31RW"
      },
      "source": [
        "#### What's the level of correlation among ordinal features?"
      ]
    },
    {
      "cell_type": "code",
      "metadata": {
        "id": "65_uKLDrzIV1",
        "colab": {
          "base_uri": "https://localhost:8080/",
          "height": 657
        },
        "outputId": "35fc2ca6-6050-445a-d715-139c7460d27b"
      },
      "source": [
        "ordinal_new_data=data[measurement_scale['ordinal']]\n",
        "plt.figure(figsize=(15,10))\n",
        "sns.heatmap(ordinal_new_data.corr(),annot=True,cmap='Blues')"
      ],
      "execution_count": null,
      "outputs": [
        {
          "output_type": "execute_result",
          "data": {
            "text/plain": [
              "<matplotlib.axes._subplots.AxesSubplot at 0x7fb49ff34c10>"
            ]
          },
          "metadata": {},
          "execution_count": 94
        },
        {
          "output_type": "display_data",
          "data": {
            "image/png": "[encoded data removed]",
            "text/plain": [
              "<Figure size 1080x720 with 2 Axes>"
            ]
          },
          "metadata": {
            "needs_background": "light"
          }
        }
      ]
    },
    {
      "cell_type": "markdown",
      "metadata": {
        "id": "8OlZUFb714Ju"
      },
      "source": [
        "Almost all data is between -0.12 to 1 also 5 columns have relation between them"
      ]
    },
    {
      "cell_type": "markdown",
      "metadata": {
        "id": "7TCoZTE14IPn"
      },
      "source": [
        "### One Hot Encoding for categorical features"
      ]
    },
    {
      "cell_type": "code",
      "metadata": {
        "colab": {
          "base_uri": "https://localhost:8080/",
          "height": 35
        },
        "id": "v0qOMIjK3U9a",
        "outputId": "fa291f5a-a872-4164-baa0-7312d5d371b7"
      },
      "source": [
        "measurement_scale['categorical'].pop(5) #Because we already deleted it"
      ],
      "execution_count": null,
      "outputs": [
        {
          "output_type": "execute_result",
          "data": {
            "application/vnd.google.colaboratory.intrinsic+json": {
              "type": "string"
            },
            "text/plain": [
              "'ps_car_03_cat'"
            ]
          },
          "metadata": {},
          "execution_count": 84
        }
      ]
    },
    {
      "cell_type": "code",
      "metadata": {
        "colab": {
          "base_uri": "https://localhost:8080/"
        },
        "id": "mO0osEkj3tJI",
        "outputId": "8472ac56-3977-4545-a227-aeefaa29f97e"
      },
      "source": [
        "measurement_scale['categorical'] "
      ],
      "execution_count": null,
      "outputs": [
        {
          "output_type": "execute_result",
          "data": {
            "text/plain": [
              "['ps_ind_02_cat',\n",
              " 'ps_ind_04_cat',\n",
              " 'ps_ind_05_cat',\n",
              " 'ps_car_01_cat',\n",
              " 'ps_car_02_cat',\n",
              " 'ps_car_04_cat',\n",
              " 'ps_car_05_cat',\n",
              " 'ps_car_06_cat',\n",
              " 'ps_car_07_cat',\n",
              " 'ps_car_08_cat',\n",
              " 'ps_car_09_cat',\n",
              " 'ps_car_10_cat',\n",
              " 'ps_car_11_cat']"
            ]
          },
          "metadata": {},
          "execution_count": 85
        }
      ]
    },
    {
      "cell_type": "code",
      "metadata": {
        "id": "EYBW0InEzZdE",
        "colab": {
          "base_uri": "https://localhost:8080/",
          "height": 444
        },
        "outputId": "84dfd73d-5988-4996-b374-3851ce6646e9"
      },
      "source": [
        "categorical_data=new_data[measurement_scale['categorical']]\n",
        "\n",
        "enc=OneHotEncoder()\n",
        "Cat_enc=enc.fit_transform(categorical_data)\n",
        "Cat_dataframe=pd.DataFrame(Cat_enc.toarray())\n",
        "Cat_dataframe"
      ],
      "execution_count": null,
      "outputs": [
        {
          "output_type": "execute_result",
          "data": {
            "text/html": [
              "<div>\n",
              "<style scoped>\n",
              "    .dataframe tbody tr th:only-of-type {\n",
              "        vertical-align: middle;\n",
              "    }\n",
              "\n",
              "    .dataframe tbody tr th {\n",
              "        vertical-align: top;\n",
              "    }\n",
              "\n",
              "    .dataframe thead th {\n",
              "        text-align: right;\n",
              "    }\n",
              "</style>\n",
              "<table border=\"1\" class=\"dataframe\">\n",
              "  <thead>\n",
              "    <tr style=\"text-align: right;\">\n",
              "      <th></th>\n",
              "      <th>0</th>\n",
              "      <th>1</th>\n",
              "      <th>2</th>\n",
              "      <th>3</th>\n",
              "      <th>4</th>\n",
              "      <th>5</th>\n",
              "      <th>6</th>\n",
              "      <th>7</th>\n",
              "      <th>8</th>\n",
              "      <th>9</th>\n",
              "      <th>10</th>\n",
              "      <th>11</th>\n",
              "      <th>12</th>\n",
              "      <th>13</th>\n",
              "      <th>14</th>\n",
              "      <th>15</th>\n",
              "      <th>16</th>\n",
              "      <th>17</th>\n",
              "      <th>18</th>\n",
              "      <th>19</th>\n",
              "      <th>20</th>\n",
              "      <th>21</th>\n",
              "      <th>22</th>\n",
              "      <th>23</th>\n",
              "      <th>24</th>\n",
              "      <th>25</th>\n",
              "      <th>26</th>\n",
              "      <th>27</th>\n",
              "      <th>28</th>\n",
              "      <th>29</th>\n",
              "      <th>30</th>\n",
              "      <th>31</th>\n",
              "      <th>32</th>\n",
              "      <th>33</th>\n",
              "      <th>34</th>\n",
              "      <th>35</th>\n",
              "      <th>36</th>\n",
              "      <th>37</th>\n",
              "      <th>38</th>\n",
              "      <th>39</th>\n",
              "      <th>...</th>\n",
              "      <th>133</th>\n",
              "      <th>134</th>\n",
              "      <th>135</th>\n",
              "      <th>136</th>\n",
              "      <th>137</th>\n",
              "      <th>138</th>\n",
              "      <th>139</th>\n",
              "      <th>140</th>\n",
              "      <th>141</th>\n",
              "      <th>142</th>\n",
              "      <th>143</th>\n",
              "      <th>144</th>\n",
              "      <th>145</th>\n",
              "      <th>146</th>\n",
              "      <th>147</th>\n",
              "      <th>148</th>\n",
              "      <th>149</th>\n",
              "      <th>150</th>\n",
              "      <th>151</th>\n",
              "      <th>152</th>\n",
              "      <th>153</th>\n",
              "      <th>154</th>\n",
              "      <th>155</th>\n",
              "      <th>156</th>\n",
              "      <th>157</th>\n",
              "      <th>158</th>\n",
              "      <th>159</th>\n",
              "      <th>160</th>\n",
              "      <th>161</th>\n",
              "      <th>162</th>\n",
              "      <th>163</th>\n",
              "      <th>164</th>\n",
              "      <th>165</th>\n",
              "      <th>166</th>\n",
              "      <th>167</th>\n",
              "      <th>168</th>\n",
              "      <th>169</th>\n",
              "      <th>170</th>\n",
              "      <th>171</th>\n",
              "      <th>172</th>\n",
              "    </tr>\n",
              "  </thead>\n",
              "  <tbody>\n",
              "    <tr>\n",
              "      <th>0</th>\n",
              "      <td>0.0</td>\n",
              "      <td>1.0</td>\n",
              "      <td>0.0</td>\n",
              "      <td>0.0</td>\n",
              "      <td>0.0</td>\n",
              "      <td>1.0</td>\n",
              "      <td>1.0</td>\n",
              "      <td>0.0</td>\n",
              "      <td>0.0</td>\n",
              "      <td>0.0</td>\n",
              "      <td>0.0</td>\n",
              "      <td>0.0</td>\n",
              "      <td>0.0</td>\n",
              "      <td>0.0</td>\n",
              "      <td>0.0</td>\n",
              "      <td>0.0</td>\n",
              "      <td>0.0</td>\n",
              "      <td>0.0</td>\n",
              "      <td>0.0</td>\n",
              "      <td>0.0</td>\n",
              "      <td>0.0</td>\n",
              "      <td>0.0</td>\n",
              "      <td>0.0</td>\n",
              "      <td>1.0</td>\n",
              "      <td>0.0</td>\n",
              "      <td>0.0</td>\n",
              "      <td>1.0</td>\n",
              "      <td>1.0</td>\n",
              "      <td>0.0</td>\n",
              "      <td>0.0</td>\n",
              "      <td>0.0</td>\n",
              "      <td>0.0</td>\n",
              "      <td>0.0</td>\n",
              "      <td>0.0</td>\n",
              "      <td>0.0</td>\n",
              "      <td>0.0</td>\n",
              "      <td>0.0</td>\n",
              "      <td>0.0</td>\n",
              "      <td>1.0</td>\n",
              "      <td>0.0</td>\n",
              "      <td>...</td>\n",
              "      <td>0.0</td>\n",
              "      <td>0.0</td>\n",
              "      <td>0.0</td>\n",
              "      <td>0.0</td>\n",
              "      <td>0.0</td>\n",
              "      <td>0.0</td>\n",
              "      <td>0.0</td>\n",
              "      <td>0.0</td>\n",
              "      <td>0.0</td>\n",
              "      <td>0.0</td>\n",
              "      <td>0.0</td>\n",
              "      <td>0.0</td>\n",
              "      <td>0.0</td>\n",
              "      <td>0.0</td>\n",
              "      <td>0.0</td>\n",
              "      <td>0.0</td>\n",
              "      <td>0.0</td>\n",
              "      <td>0.0</td>\n",
              "      <td>0.0</td>\n",
              "      <td>0.0</td>\n",
              "      <td>0.0</td>\n",
              "      <td>0.0</td>\n",
              "      <td>0.0</td>\n",
              "      <td>0.0</td>\n",
              "      <td>0.0</td>\n",
              "      <td>0.0</td>\n",
              "      <td>0.0</td>\n",
              "      <td>0.0</td>\n",
              "      <td>0.0</td>\n",
              "      <td>0.0</td>\n",
              "      <td>0.0</td>\n",
              "      <td>0.0</td>\n",
              "      <td>0.0</td>\n",
              "      <td>0.0</td>\n",
              "      <td>0.0</td>\n",
              "      <td>0.0</td>\n",
              "      <td>0.0</td>\n",
              "      <td>0.0</td>\n",
              "      <td>0.0</td>\n",
              "      <td>0.0</td>\n",
              "    </tr>\n",
              "    <tr>\n",
              "      <th>1</th>\n",
              "      <td>1.0</td>\n",
              "      <td>0.0</td>\n",
              "      <td>0.0</td>\n",
              "      <td>0.0</td>\n",
              "      <td>1.0</td>\n",
              "      <td>0.0</td>\n",
              "      <td>1.0</td>\n",
              "      <td>0.0</td>\n",
              "      <td>0.0</td>\n",
              "      <td>0.0</td>\n",
              "      <td>0.0</td>\n",
              "      <td>0.0</td>\n",
              "      <td>0.0</td>\n",
              "      <td>0.0</td>\n",
              "      <td>0.0</td>\n",
              "      <td>0.0</td>\n",
              "      <td>0.0</td>\n",
              "      <td>0.0</td>\n",
              "      <td>0.0</td>\n",
              "      <td>0.0</td>\n",
              "      <td>0.0</td>\n",
              "      <td>0.0</td>\n",
              "      <td>0.0</td>\n",
              "      <td>0.0</td>\n",
              "      <td>1.0</td>\n",
              "      <td>0.0</td>\n",
              "      <td>1.0</td>\n",
              "      <td>1.0</td>\n",
              "      <td>0.0</td>\n",
              "      <td>0.0</td>\n",
              "      <td>0.0</td>\n",
              "      <td>0.0</td>\n",
              "      <td>0.0</td>\n",
              "      <td>0.0</td>\n",
              "      <td>0.0</td>\n",
              "      <td>0.0</td>\n",
              "      <td>0.0</td>\n",
              "      <td>1.0</td>\n",
              "      <td>0.0</td>\n",
              "      <td>0.0</td>\n",
              "      <td>...</td>\n",
              "      <td>0.0</td>\n",
              "      <td>0.0</td>\n",
              "      <td>0.0</td>\n",
              "      <td>0.0</td>\n",
              "      <td>0.0</td>\n",
              "      <td>0.0</td>\n",
              "      <td>0.0</td>\n",
              "      <td>0.0</td>\n",
              "      <td>0.0</td>\n",
              "      <td>0.0</td>\n",
              "      <td>0.0</td>\n",
              "      <td>0.0</td>\n",
              "      <td>0.0</td>\n",
              "      <td>0.0</td>\n",
              "      <td>0.0</td>\n",
              "      <td>0.0</td>\n",
              "      <td>0.0</td>\n",
              "      <td>0.0</td>\n",
              "      <td>0.0</td>\n",
              "      <td>0.0</td>\n",
              "      <td>0.0</td>\n",
              "      <td>0.0</td>\n",
              "      <td>0.0</td>\n",
              "      <td>0.0</td>\n",
              "      <td>0.0</td>\n",
              "      <td>0.0</td>\n",
              "      <td>0.0</td>\n",
              "      <td>0.0</td>\n",
              "      <td>0.0</td>\n",
              "      <td>0.0</td>\n",
              "      <td>0.0</td>\n",
              "      <td>0.0</td>\n",
              "      <td>0.0</td>\n",
              "      <td>0.0</td>\n",
              "      <td>0.0</td>\n",
              "      <td>0.0</td>\n",
              "      <td>0.0</td>\n",
              "      <td>0.0</td>\n",
              "      <td>0.0</td>\n",
              "      <td>0.0</td>\n",
              "    </tr>\n",
              "    <tr>\n",
              "      <th>2</th>\n",
              "      <td>0.0</td>\n",
              "      <td>0.0</td>\n",
              "      <td>0.0</td>\n",
              "      <td>1.0</td>\n",
              "      <td>0.0</td>\n",
              "      <td>1.0</td>\n",
              "      <td>1.0</td>\n",
              "      <td>0.0</td>\n",
              "      <td>0.0</td>\n",
              "      <td>0.0</td>\n",
              "      <td>0.0</td>\n",
              "      <td>0.0</td>\n",
              "      <td>0.0</td>\n",
              "      <td>0.0</td>\n",
              "      <td>0.0</td>\n",
              "      <td>0.0</td>\n",
              "      <td>0.0</td>\n",
              "      <td>0.0</td>\n",
              "      <td>0.0</td>\n",
              "      <td>0.0</td>\n",
              "      <td>1.0</td>\n",
              "      <td>0.0</td>\n",
              "      <td>0.0</td>\n",
              "      <td>0.0</td>\n",
              "      <td>0.0</td>\n",
              "      <td>0.0</td>\n",
              "      <td>1.0</td>\n",
              "      <td>1.0</td>\n",
              "      <td>0.0</td>\n",
              "      <td>0.0</td>\n",
              "      <td>0.0</td>\n",
              "      <td>0.0</td>\n",
              "      <td>0.0</td>\n",
              "      <td>0.0</td>\n",
              "      <td>0.0</td>\n",
              "      <td>0.0</td>\n",
              "      <td>0.0</td>\n",
              "      <td>0.0</td>\n",
              "      <td>1.0</td>\n",
              "      <td>0.0</td>\n",
              "      <td>...</td>\n",
              "      <td>0.0</td>\n",
              "      <td>0.0</td>\n",
              "      <td>0.0</td>\n",
              "      <td>0.0</td>\n",
              "      <td>0.0</td>\n",
              "      <td>0.0</td>\n",
              "      <td>0.0</td>\n",
              "      <td>0.0</td>\n",
              "      <td>0.0</td>\n",
              "      <td>0.0</td>\n",
              "      <td>0.0</td>\n",
              "      <td>0.0</td>\n",
              "      <td>0.0</td>\n",
              "      <td>0.0</td>\n",
              "      <td>0.0</td>\n",
              "      <td>0.0</td>\n",
              "      <td>0.0</td>\n",
              "      <td>0.0</td>\n",
              "      <td>0.0</td>\n",
              "      <td>0.0</td>\n",
              "      <td>0.0</td>\n",
              "      <td>0.0</td>\n",
              "      <td>0.0</td>\n",
              "      <td>0.0</td>\n",
              "      <td>0.0</td>\n",
              "      <td>0.0</td>\n",
              "      <td>0.0</td>\n",
              "      <td>0.0</td>\n",
              "      <td>0.0</td>\n",
              "      <td>0.0</td>\n",
              "      <td>0.0</td>\n",
              "      <td>0.0</td>\n",
              "      <td>0.0</td>\n",
              "      <td>0.0</td>\n",
              "      <td>0.0</td>\n",
              "      <td>0.0</td>\n",
              "      <td>0.0</td>\n",
              "      <td>0.0</td>\n",
              "      <td>0.0</td>\n",
              "      <td>0.0</td>\n",
              "    </tr>\n",
              "    <tr>\n",
              "      <th>3</th>\n",
              "      <td>1.0</td>\n",
              "      <td>0.0</td>\n",
              "      <td>0.0</td>\n",
              "      <td>0.0</td>\n",
              "      <td>1.0</td>\n",
              "      <td>0.0</td>\n",
              "      <td>1.0</td>\n",
              "      <td>0.0</td>\n",
              "      <td>0.0</td>\n",
              "      <td>0.0</td>\n",
              "      <td>0.0</td>\n",
              "      <td>0.0</td>\n",
              "      <td>0.0</td>\n",
              "      <td>0.0</td>\n",
              "      <td>0.0</td>\n",
              "      <td>0.0</td>\n",
              "      <td>0.0</td>\n",
              "      <td>0.0</td>\n",
              "      <td>0.0</td>\n",
              "      <td>0.0</td>\n",
              "      <td>1.0</td>\n",
              "      <td>0.0</td>\n",
              "      <td>0.0</td>\n",
              "      <td>0.0</td>\n",
              "      <td>0.0</td>\n",
              "      <td>0.0</td>\n",
              "      <td>1.0</td>\n",
              "      <td>1.0</td>\n",
              "      <td>0.0</td>\n",
              "      <td>0.0</td>\n",
              "      <td>0.0</td>\n",
              "      <td>0.0</td>\n",
              "      <td>0.0</td>\n",
              "      <td>0.0</td>\n",
              "      <td>0.0</td>\n",
              "      <td>0.0</td>\n",
              "      <td>0.0</td>\n",
              "      <td>0.0</td>\n",
              "      <td>1.0</td>\n",
              "      <td>0.0</td>\n",
              "      <td>...</td>\n",
              "      <td>0.0</td>\n",
              "      <td>0.0</td>\n",
              "      <td>0.0</td>\n",
              "      <td>0.0</td>\n",
              "      <td>0.0</td>\n",
              "      <td>0.0</td>\n",
              "      <td>0.0</td>\n",
              "      <td>0.0</td>\n",
              "      <td>0.0</td>\n",
              "      <td>0.0</td>\n",
              "      <td>0.0</td>\n",
              "      <td>0.0</td>\n",
              "      <td>0.0</td>\n",
              "      <td>0.0</td>\n",
              "      <td>0.0</td>\n",
              "      <td>0.0</td>\n",
              "      <td>0.0</td>\n",
              "      <td>0.0</td>\n",
              "      <td>0.0</td>\n",
              "      <td>0.0</td>\n",
              "      <td>0.0</td>\n",
              "      <td>0.0</td>\n",
              "      <td>0.0</td>\n",
              "      <td>0.0</td>\n",
              "      <td>0.0</td>\n",
              "      <td>0.0</td>\n",
              "      <td>0.0</td>\n",
              "      <td>0.0</td>\n",
              "      <td>0.0</td>\n",
              "      <td>0.0</td>\n",
              "      <td>0.0</td>\n",
              "      <td>0.0</td>\n",
              "      <td>0.0</td>\n",
              "      <td>0.0</td>\n",
              "      <td>0.0</td>\n",
              "      <td>0.0</td>\n",
              "      <td>0.0</td>\n",
              "      <td>0.0</td>\n",
              "      <td>0.0</td>\n",
              "      <td>1.0</td>\n",
              "    </tr>\n",
              "    <tr>\n",
              "      <th>4</th>\n",
              "      <td>0.0</td>\n",
              "      <td>1.0</td>\n",
              "      <td>0.0</td>\n",
              "      <td>0.0</td>\n",
              "      <td>0.0</td>\n",
              "      <td>1.0</td>\n",
              "      <td>1.0</td>\n",
              "      <td>0.0</td>\n",
              "      <td>0.0</td>\n",
              "      <td>0.0</td>\n",
              "      <td>0.0</td>\n",
              "      <td>0.0</td>\n",
              "      <td>0.0</td>\n",
              "      <td>0.0</td>\n",
              "      <td>0.0</td>\n",
              "      <td>0.0</td>\n",
              "      <td>0.0</td>\n",
              "      <td>0.0</td>\n",
              "      <td>0.0</td>\n",
              "      <td>0.0</td>\n",
              "      <td>0.0</td>\n",
              "      <td>0.0</td>\n",
              "      <td>0.0</td>\n",
              "      <td>0.0</td>\n",
              "      <td>1.0</td>\n",
              "      <td>0.0</td>\n",
              "      <td>1.0</td>\n",
              "      <td>1.0</td>\n",
              "      <td>0.0</td>\n",
              "      <td>0.0</td>\n",
              "      <td>0.0</td>\n",
              "      <td>0.0</td>\n",
              "      <td>0.0</td>\n",
              "      <td>0.0</td>\n",
              "      <td>0.0</td>\n",
              "      <td>0.0</td>\n",
              "      <td>0.0</td>\n",
              "      <td>0.0</td>\n",
              "      <td>1.0</td>\n",
              "      <td>0.0</td>\n",
              "      <td>...</td>\n",
              "      <td>0.0</td>\n",
              "      <td>0.0</td>\n",
              "      <td>0.0</td>\n",
              "      <td>0.0</td>\n",
              "      <td>0.0</td>\n",
              "      <td>0.0</td>\n",
              "      <td>0.0</td>\n",
              "      <td>0.0</td>\n",
              "      <td>0.0</td>\n",
              "      <td>0.0</td>\n",
              "      <td>0.0</td>\n",
              "      <td>0.0</td>\n",
              "      <td>0.0</td>\n",
              "      <td>0.0</td>\n",
              "      <td>0.0</td>\n",
              "      <td>0.0</td>\n",
              "      <td>0.0</td>\n",
              "      <td>1.0</td>\n",
              "      <td>0.0</td>\n",
              "      <td>0.0</td>\n",
              "      <td>0.0</td>\n",
              "      <td>0.0</td>\n",
              "      <td>0.0</td>\n",
              "      <td>0.0</td>\n",
              "      <td>0.0</td>\n",
              "      <td>0.0</td>\n",
              "      <td>0.0</td>\n",
              "      <td>0.0</td>\n",
              "      <td>0.0</td>\n",
              "      <td>0.0</td>\n",
              "      <td>0.0</td>\n",
              "      <td>0.0</td>\n",
              "      <td>0.0</td>\n",
              "      <td>0.0</td>\n",
              "      <td>0.0</td>\n",
              "      <td>0.0</td>\n",
              "      <td>0.0</td>\n",
              "      <td>0.0</td>\n",
              "      <td>0.0</td>\n",
              "      <td>0.0</td>\n",
              "    </tr>\n",
              "    <tr>\n",
              "      <th>...</th>\n",
              "      <td>...</td>\n",
              "      <td>...</td>\n",
              "      <td>...</td>\n",
              "      <td>...</td>\n",
              "      <td>...</td>\n",
              "      <td>...</td>\n",
              "      <td>...</td>\n",
              "      <td>...</td>\n",
              "      <td>...</td>\n",
              "      <td>...</td>\n",
              "      <td>...</td>\n",
              "      <td>...</td>\n",
              "      <td>...</td>\n",
              "      <td>...</td>\n",
              "      <td>...</td>\n",
              "      <td>...</td>\n",
              "      <td>...</td>\n",
              "      <td>...</td>\n",
              "      <td>...</td>\n",
              "      <td>...</td>\n",
              "      <td>...</td>\n",
              "      <td>...</td>\n",
              "      <td>...</td>\n",
              "      <td>...</td>\n",
              "      <td>...</td>\n",
              "      <td>...</td>\n",
              "      <td>...</td>\n",
              "      <td>...</td>\n",
              "      <td>...</td>\n",
              "      <td>...</td>\n",
              "      <td>...</td>\n",
              "      <td>...</td>\n",
              "      <td>...</td>\n",
              "      <td>...</td>\n",
              "      <td>...</td>\n",
              "      <td>...</td>\n",
              "      <td>...</td>\n",
              "      <td>...</td>\n",
              "      <td>...</td>\n",
              "      <td>...</td>\n",
              "      <td>...</td>\n",
              "      <td>...</td>\n",
              "      <td>...</td>\n",
              "      <td>...</td>\n",
              "      <td>...</td>\n",
              "      <td>...</td>\n",
              "      <td>...</td>\n",
              "      <td>...</td>\n",
              "      <td>...</td>\n",
              "      <td>...</td>\n",
              "      <td>...</td>\n",
              "      <td>...</td>\n",
              "      <td>...</td>\n",
              "      <td>...</td>\n",
              "      <td>...</td>\n",
              "      <td>...</td>\n",
              "      <td>...</td>\n",
              "      <td>...</td>\n",
              "      <td>...</td>\n",
              "      <td>...</td>\n",
              "      <td>...</td>\n",
              "      <td>...</td>\n",
              "      <td>...</td>\n",
              "      <td>...</td>\n",
              "      <td>...</td>\n",
              "      <td>...</td>\n",
              "      <td>...</td>\n",
              "      <td>...</td>\n",
              "      <td>...</td>\n",
              "      <td>...</td>\n",
              "      <td>...</td>\n",
              "      <td>...</td>\n",
              "      <td>...</td>\n",
              "      <td>...</td>\n",
              "      <td>...</td>\n",
              "      <td>...</td>\n",
              "      <td>...</td>\n",
              "      <td>...</td>\n",
              "      <td>...</td>\n",
              "      <td>...</td>\n",
              "      <td>...</td>\n",
              "    </tr>\n",
              "    <tr>\n",
              "      <th>636910</th>\n",
              "      <td>1.0</td>\n",
              "      <td>0.0</td>\n",
              "      <td>0.0</td>\n",
              "      <td>0.0</td>\n",
              "      <td>0.0</td>\n",
              "      <td>1.0</td>\n",
              "      <td>1.0</td>\n",
              "      <td>0.0</td>\n",
              "      <td>0.0</td>\n",
              "      <td>0.0</td>\n",
              "      <td>0.0</td>\n",
              "      <td>0.0</td>\n",
              "      <td>0.0</td>\n",
              "      <td>0.0</td>\n",
              "      <td>0.0</td>\n",
              "      <td>0.0</td>\n",
              "      <td>0.0</td>\n",
              "      <td>0.0</td>\n",
              "      <td>0.0</td>\n",
              "      <td>0.0</td>\n",
              "      <td>1.0</td>\n",
              "      <td>0.0</td>\n",
              "      <td>0.0</td>\n",
              "      <td>0.0</td>\n",
              "      <td>0.0</td>\n",
              "      <td>0.0</td>\n",
              "      <td>1.0</td>\n",
              "      <td>1.0</td>\n",
              "      <td>0.0</td>\n",
              "      <td>0.0</td>\n",
              "      <td>0.0</td>\n",
              "      <td>0.0</td>\n",
              "      <td>0.0</td>\n",
              "      <td>0.0</td>\n",
              "      <td>0.0</td>\n",
              "      <td>0.0</td>\n",
              "      <td>0.0</td>\n",
              "      <td>1.0</td>\n",
              "      <td>0.0</td>\n",
              "      <td>0.0</td>\n",
              "      <td>...</td>\n",
              "      <td>0.0</td>\n",
              "      <td>0.0</td>\n",
              "      <td>0.0</td>\n",
              "      <td>0.0</td>\n",
              "      <td>0.0</td>\n",
              "      <td>0.0</td>\n",
              "      <td>0.0</td>\n",
              "      <td>0.0</td>\n",
              "      <td>0.0</td>\n",
              "      <td>1.0</td>\n",
              "      <td>0.0</td>\n",
              "      <td>0.0</td>\n",
              "      <td>0.0</td>\n",
              "      <td>0.0</td>\n",
              "      <td>0.0</td>\n",
              "      <td>0.0</td>\n",
              "      <td>0.0</td>\n",
              "      <td>0.0</td>\n",
              "      <td>0.0</td>\n",
              "      <td>0.0</td>\n",
              "      <td>0.0</td>\n",
              "      <td>0.0</td>\n",
              "      <td>0.0</td>\n",
              "      <td>0.0</td>\n",
              "      <td>0.0</td>\n",
              "      <td>0.0</td>\n",
              "      <td>0.0</td>\n",
              "      <td>0.0</td>\n",
              "      <td>0.0</td>\n",
              "      <td>0.0</td>\n",
              "      <td>0.0</td>\n",
              "      <td>0.0</td>\n",
              "      <td>0.0</td>\n",
              "      <td>0.0</td>\n",
              "      <td>0.0</td>\n",
              "      <td>0.0</td>\n",
              "      <td>0.0</td>\n",
              "      <td>0.0</td>\n",
              "      <td>0.0</td>\n",
              "      <td>0.0</td>\n",
              "    </tr>\n",
              "    <tr>\n",
              "      <th>636911</th>\n",
              "      <td>0.0</td>\n",
              "      <td>0.0</td>\n",
              "      <td>1.0</td>\n",
              "      <td>0.0</td>\n",
              "      <td>1.0</td>\n",
              "      <td>0.0</td>\n",
              "      <td>1.0</td>\n",
              "      <td>0.0</td>\n",
              "      <td>0.0</td>\n",
              "      <td>0.0</td>\n",
              "      <td>0.0</td>\n",
              "      <td>0.0</td>\n",
              "      <td>0.0</td>\n",
              "      <td>0.0</td>\n",
              "      <td>0.0</td>\n",
              "      <td>0.0</td>\n",
              "      <td>0.0</td>\n",
              "      <td>0.0</td>\n",
              "      <td>0.0</td>\n",
              "      <td>0.0</td>\n",
              "      <td>1.0</td>\n",
              "      <td>0.0</td>\n",
              "      <td>0.0</td>\n",
              "      <td>0.0</td>\n",
              "      <td>0.0</td>\n",
              "      <td>0.0</td>\n",
              "      <td>1.0</td>\n",
              "      <td>1.0</td>\n",
              "      <td>0.0</td>\n",
              "      <td>0.0</td>\n",
              "      <td>0.0</td>\n",
              "      <td>0.0</td>\n",
              "      <td>0.0</td>\n",
              "      <td>0.0</td>\n",
              "      <td>0.0</td>\n",
              "      <td>0.0</td>\n",
              "      <td>0.0</td>\n",
              "      <td>1.0</td>\n",
              "      <td>0.0</td>\n",
              "      <td>0.0</td>\n",
              "      <td>...</td>\n",
              "      <td>0.0</td>\n",
              "      <td>0.0</td>\n",
              "      <td>0.0</td>\n",
              "      <td>0.0</td>\n",
              "      <td>0.0</td>\n",
              "      <td>0.0</td>\n",
              "      <td>0.0</td>\n",
              "      <td>0.0</td>\n",
              "      <td>0.0</td>\n",
              "      <td>0.0</td>\n",
              "      <td>0.0</td>\n",
              "      <td>0.0</td>\n",
              "      <td>0.0</td>\n",
              "      <td>0.0</td>\n",
              "      <td>0.0</td>\n",
              "      <td>0.0</td>\n",
              "      <td>0.0</td>\n",
              "      <td>0.0</td>\n",
              "      <td>0.0</td>\n",
              "      <td>0.0</td>\n",
              "      <td>0.0</td>\n",
              "      <td>0.0</td>\n",
              "      <td>0.0</td>\n",
              "      <td>0.0</td>\n",
              "      <td>0.0</td>\n",
              "      <td>0.0</td>\n",
              "      <td>0.0</td>\n",
              "      <td>0.0</td>\n",
              "      <td>0.0</td>\n",
              "      <td>0.0</td>\n",
              "      <td>0.0</td>\n",
              "      <td>0.0</td>\n",
              "      <td>0.0</td>\n",
              "      <td>0.0</td>\n",
              "      <td>0.0</td>\n",
              "      <td>0.0</td>\n",
              "      <td>1.0</td>\n",
              "      <td>0.0</td>\n",
              "      <td>0.0</td>\n",
              "      <td>0.0</td>\n",
              "    </tr>\n",
              "    <tr>\n",
              "      <th>636912</th>\n",
              "      <td>0.0</td>\n",
              "      <td>1.0</td>\n",
              "      <td>0.0</td>\n",
              "      <td>0.0</td>\n",
              "      <td>0.0</td>\n",
              "      <td>1.0</td>\n",
              "      <td>1.0</td>\n",
              "      <td>0.0</td>\n",
              "      <td>0.0</td>\n",
              "      <td>0.0</td>\n",
              "      <td>0.0</td>\n",
              "      <td>0.0</td>\n",
              "      <td>0.0</td>\n",
              "      <td>0.0</td>\n",
              "      <td>0.0</td>\n",
              "      <td>0.0</td>\n",
              "      <td>0.0</td>\n",
              "      <td>0.0</td>\n",
              "      <td>0.0</td>\n",
              "      <td>0.0</td>\n",
              "      <td>0.0</td>\n",
              "      <td>0.0</td>\n",
              "      <td>0.0</td>\n",
              "      <td>0.0</td>\n",
              "      <td>1.0</td>\n",
              "      <td>0.0</td>\n",
              "      <td>1.0</td>\n",
              "      <td>1.0</td>\n",
              "      <td>0.0</td>\n",
              "      <td>0.0</td>\n",
              "      <td>0.0</td>\n",
              "      <td>0.0</td>\n",
              "      <td>0.0</td>\n",
              "      <td>0.0</td>\n",
              "      <td>0.0</td>\n",
              "      <td>0.0</td>\n",
              "      <td>0.0</td>\n",
              "      <td>1.0</td>\n",
              "      <td>0.0</td>\n",
              "      <td>0.0</td>\n",
              "      <td>...</td>\n",
              "      <td>0.0</td>\n",
              "      <td>0.0</td>\n",
              "      <td>0.0</td>\n",
              "      <td>0.0</td>\n",
              "      <td>0.0</td>\n",
              "      <td>0.0</td>\n",
              "      <td>0.0</td>\n",
              "      <td>0.0</td>\n",
              "      <td>0.0</td>\n",
              "      <td>0.0</td>\n",
              "      <td>0.0</td>\n",
              "      <td>0.0</td>\n",
              "      <td>0.0</td>\n",
              "      <td>0.0</td>\n",
              "      <td>0.0</td>\n",
              "      <td>0.0</td>\n",
              "      <td>0.0</td>\n",
              "      <td>1.0</td>\n",
              "      <td>0.0</td>\n",
              "      <td>0.0</td>\n",
              "      <td>0.0</td>\n",
              "      <td>0.0</td>\n",
              "      <td>0.0</td>\n",
              "      <td>0.0</td>\n",
              "      <td>0.0</td>\n",
              "      <td>0.0</td>\n",
              "      <td>0.0</td>\n",
              "      <td>0.0</td>\n",
              "      <td>0.0</td>\n",
              "      <td>0.0</td>\n",
              "      <td>0.0</td>\n",
              "      <td>0.0</td>\n",
              "      <td>0.0</td>\n",
              "      <td>0.0</td>\n",
              "      <td>0.0</td>\n",
              "      <td>0.0</td>\n",
              "      <td>0.0</td>\n",
              "      <td>0.0</td>\n",
              "      <td>0.0</td>\n",
              "      <td>0.0</td>\n",
              "    </tr>\n",
              "    <tr>\n",
              "      <th>636913</th>\n",
              "      <td>1.0</td>\n",
              "      <td>0.0</td>\n",
              "      <td>0.0</td>\n",
              "      <td>0.0</td>\n",
              "      <td>1.0</td>\n",
              "      <td>0.0</td>\n",
              "      <td>1.0</td>\n",
              "      <td>0.0</td>\n",
              "      <td>0.0</td>\n",
              "      <td>0.0</td>\n",
              "      <td>0.0</td>\n",
              "      <td>0.0</td>\n",
              "      <td>0.0</td>\n",
              "      <td>0.0</td>\n",
              "      <td>0.0</td>\n",
              "      <td>0.0</td>\n",
              "      <td>0.0</td>\n",
              "      <td>1.0</td>\n",
              "      <td>0.0</td>\n",
              "      <td>0.0</td>\n",
              "      <td>0.0</td>\n",
              "      <td>0.0</td>\n",
              "      <td>0.0</td>\n",
              "      <td>0.0</td>\n",
              "      <td>0.0</td>\n",
              "      <td>1.0</td>\n",
              "      <td>0.0</td>\n",
              "      <td>0.0</td>\n",
              "      <td>0.0</td>\n",
              "      <td>0.0</td>\n",
              "      <td>0.0</td>\n",
              "      <td>0.0</td>\n",
              "      <td>0.0</td>\n",
              "      <td>0.0</td>\n",
              "      <td>0.0</td>\n",
              "      <td>1.0</td>\n",
              "      <td>0.0</td>\n",
              "      <td>1.0</td>\n",
              "      <td>0.0</td>\n",
              "      <td>0.0</td>\n",
              "      <td>...</td>\n",
              "      <td>0.0</td>\n",
              "      <td>0.0</td>\n",
              "      <td>0.0</td>\n",
              "      <td>0.0</td>\n",
              "      <td>0.0</td>\n",
              "      <td>0.0</td>\n",
              "      <td>0.0</td>\n",
              "      <td>0.0</td>\n",
              "      <td>0.0</td>\n",
              "      <td>0.0</td>\n",
              "      <td>0.0</td>\n",
              "      <td>0.0</td>\n",
              "      <td>0.0</td>\n",
              "      <td>0.0</td>\n",
              "      <td>0.0</td>\n",
              "      <td>0.0</td>\n",
              "      <td>0.0</td>\n",
              "      <td>0.0</td>\n",
              "      <td>0.0</td>\n",
              "      <td>0.0</td>\n",
              "      <td>0.0</td>\n",
              "      <td>0.0</td>\n",
              "      <td>0.0</td>\n",
              "      <td>0.0</td>\n",
              "      <td>0.0</td>\n",
              "      <td>0.0</td>\n",
              "      <td>0.0</td>\n",
              "      <td>0.0</td>\n",
              "      <td>0.0</td>\n",
              "      <td>0.0</td>\n",
              "      <td>0.0</td>\n",
              "      <td>0.0</td>\n",
              "      <td>0.0</td>\n",
              "      <td>0.0</td>\n",
              "      <td>0.0</td>\n",
              "      <td>0.0</td>\n",
              "      <td>0.0</td>\n",
              "      <td>0.0</td>\n",
              "      <td>0.0</td>\n",
              "      <td>0.0</td>\n",
              "    </tr>\n",
              "    <tr>\n",
              "      <th>636914</th>\n",
              "      <td>1.0</td>\n",
              "      <td>0.0</td>\n",
              "      <td>0.0</td>\n",
              "      <td>0.0</td>\n",
              "      <td>1.0</td>\n",
              "      <td>0.0</td>\n",
              "      <td>1.0</td>\n",
              "      <td>0.0</td>\n",
              "      <td>0.0</td>\n",
              "      <td>0.0</td>\n",
              "      <td>0.0</td>\n",
              "      <td>0.0</td>\n",
              "      <td>0.0</td>\n",
              "      <td>0.0</td>\n",
              "      <td>0.0</td>\n",
              "      <td>0.0</td>\n",
              "      <td>0.0</td>\n",
              "      <td>0.0</td>\n",
              "      <td>0.0</td>\n",
              "      <td>0.0</td>\n",
              "      <td>0.0</td>\n",
              "      <td>0.0</td>\n",
              "      <td>0.0</td>\n",
              "      <td>0.0</td>\n",
              "      <td>1.0</td>\n",
              "      <td>0.0</td>\n",
              "      <td>1.0</td>\n",
              "      <td>0.0</td>\n",
              "      <td>0.0</td>\n",
              "      <td>0.0</td>\n",
              "      <td>0.0</td>\n",
              "      <td>0.0</td>\n",
              "      <td>0.0</td>\n",
              "      <td>0.0</td>\n",
              "      <td>0.0</td>\n",
              "      <td>1.0</td>\n",
              "      <td>0.0</td>\n",
              "      <td>0.0</td>\n",
              "      <td>1.0</td>\n",
              "      <td>0.0</td>\n",
              "      <td>...</td>\n",
              "      <td>0.0</td>\n",
              "      <td>0.0</td>\n",
              "      <td>0.0</td>\n",
              "      <td>0.0</td>\n",
              "      <td>0.0</td>\n",
              "      <td>0.0</td>\n",
              "      <td>0.0</td>\n",
              "      <td>0.0</td>\n",
              "      <td>0.0</td>\n",
              "      <td>0.0</td>\n",
              "      <td>0.0</td>\n",
              "      <td>0.0</td>\n",
              "      <td>0.0</td>\n",
              "      <td>0.0</td>\n",
              "      <td>0.0</td>\n",
              "      <td>0.0</td>\n",
              "      <td>0.0</td>\n",
              "      <td>0.0</td>\n",
              "      <td>0.0</td>\n",
              "      <td>0.0</td>\n",
              "      <td>0.0</td>\n",
              "      <td>0.0</td>\n",
              "      <td>0.0</td>\n",
              "      <td>0.0</td>\n",
              "      <td>0.0</td>\n",
              "      <td>0.0</td>\n",
              "      <td>0.0</td>\n",
              "      <td>0.0</td>\n",
              "      <td>0.0</td>\n",
              "      <td>0.0</td>\n",
              "      <td>0.0</td>\n",
              "      <td>0.0</td>\n",
              "      <td>0.0</td>\n",
              "      <td>0.0</td>\n",
              "      <td>0.0</td>\n",
              "      <td>0.0</td>\n",
              "      <td>0.0</td>\n",
              "      <td>0.0</td>\n",
              "      <td>0.0</td>\n",
              "      <td>0.0</td>\n",
              "    </tr>\n",
              "  </tbody>\n",
              "</table>\n",
              "<p>636915 rows × 173 columns</p>\n",
              "</div>"
            ],
            "text/plain": [
              "        0    1    2    3    4    5    6    ...  166  167  168  169  170  171  172\n",
              "0       0.0  1.0  0.0  0.0  0.0  1.0  1.0  ...  0.0  0.0  0.0  0.0  0.0  0.0  0.0\n",
              "1       1.0  0.0  0.0  0.0  1.0  0.0  1.0  ...  0.0  0.0  0.0  0.0  0.0  0.0  0.0\n",
              "2       0.0  0.0  0.0  1.0  0.0  1.0  1.0  ...  0.0  0.0  0.0  0.0  0.0  0.0  0.0\n",
              "3       1.0  0.0  0.0  0.0  1.0  0.0  1.0  ...  0.0  0.0  0.0  0.0  0.0  0.0  1.0\n",
              "4       0.0  1.0  0.0  0.0  0.0  1.0  1.0  ...  0.0  0.0  0.0  0.0  0.0  0.0  0.0\n",
              "...     ...  ...  ...  ...  ...  ...  ...  ...  ...  ...  ...  ...  ...  ...  ...\n",
              "636910  1.0  0.0  0.0  0.0  0.0  1.0  1.0  ...  0.0  0.0  0.0  0.0  0.0  0.0  0.0\n",
              "636911  0.0  0.0  1.0  0.0  1.0  0.0  1.0  ...  0.0  0.0  0.0  1.0  0.0  0.0  0.0\n",
              "636912  0.0  1.0  0.0  0.0  0.0  1.0  1.0  ...  0.0  0.0  0.0  0.0  0.0  0.0  0.0\n",
              "636913  1.0  0.0  0.0  0.0  1.0  0.0  1.0  ...  0.0  0.0  0.0  0.0  0.0  0.0  0.0\n",
              "636914  1.0  0.0  0.0  0.0  1.0  0.0  1.0  ...  0.0  0.0  0.0  0.0  0.0  0.0  0.0\n",
              "\n",
              "[636915 rows x 173 columns]"
            ]
          },
          "metadata": {},
          "execution_count": 86
        }
      ]
    },
    {
      "cell_type": "markdown",
      "metadata": {
        "id": "eqO2Xvoi74Aa"
      },
      "source": [
        "### which features are suitable for StandardScaler in interval& categorical?"
      ]
    },
    {
      "cell_type": "code",
      "metadata": {
        "colab": {
          "base_uri": "https://localhost:8080/",
          "height": 444
        },
        "id": "jPBw0eKy4X2q",
        "outputId": "a0560541-0f7b-42c6-fe38-27d59165c26f"
      },
      "source": [
        "int_a_cat=measurement_scale['interval']+measurement_scale['categorical']\n",
        "int_a_cat=new_data[int_a_cat]\n",
        "int_a_cat"
      ],
      "execution_count": null,
      "outputs": [
        {
          "output_type": "execute_result",
          "data": {
            "text/html": [
              "<div>\n",
              "<style scoped>\n",
              "    .dataframe tbody tr th:only-of-type {\n",
              "        vertical-align: middle;\n",
              "    }\n",
              "\n",
              "    .dataframe tbody tr th {\n",
              "        vertical-align: top;\n",
              "    }\n",
              "\n",
              "    .dataframe thead th {\n",
              "        text-align: right;\n",
              "    }\n",
              "</style>\n",
              "<table border=\"1\" class=\"dataframe\">\n",
              "  <thead>\n",
              "    <tr style=\"text-align: right;\">\n",
              "      <th></th>\n",
              "      <th>ps_reg_01</th>\n",
              "      <th>ps_reg_02</th>\n",
              "      <th>ps_reg_03</th>\n",
              "      <th>ps_car_12</th>\n",
              "      <th>ps_car_13</th>\n",
              "      <th>ps_car_14</th>\n",
              "      <th>ps_car_15</th>\n",
              "      <th>ps_calc_01</th>\n",
              "      <th>ps_calc_02</th>\n",
              "      <th>ps_calc_03</th>\n",
              "      <th>ps_ind_02_cat</th>\n",
              "      <th>ps_ind_04_cat</th>\n",
              "      <th>ps_ind_05_cat</th>\n",
              "      <th>ps_car_01_cat</th>\n",
              "      <th>ps_car_02_cat</th>\n",
              "      <th>ps_car_04_cat</th>\n",
              "      <th>ps_car_05_cat</th>\n",
              "      <th>ps_car_06_cat</th>\n",
              "      <th>ps_car_07_cat</th>\n",
              "      <th>ps_car_08_cat</th>\n",
              "      <th>ps_car_09_cat</th>\n",
              "      <th>ps_car_10_cat</th>\n",
              "      <th>ps_car_11_cat</th>\n",
              "    </tr>\n",
              "  </thead>\n",
              "  <tbody>\n",
              "    <tr>\n",
              "      <th>0</th>\n",
              "      <td>0.7</td>\n",
              "      <td>0.2</td>\n",
              "      <td>0.718070</td>\n",
              "      <td>0.400000</td>\n",
              "      <td>0.883679</td>\n",
              "      <td>0.370810</td>\n",
              "      <td>3.605551</td>\n",
              "      <td>0.6</td>\n",
              "      <td>0.5</td>\n",
              "      <td>0.2</td>\n",
              "      <td>2.0</td>\n",
              "      <td>1.0</td>\n",
              "      <td>0.0</td>\n",
              "      <td>10.0</td>\n",
              "      <td>1</td>\n",
              "      <td>0</td>\n",
              "      <td>1</td>\n",
              "      <td>4</td>\n",
              "      <td>1.0</td>\n",
              "      <td>0</td>\n",
              "      <td>0.0</td>\n",
              "      <td>1</td>\n",
              "      <td>12</td>\n",
              "    </tr>\n",
              "    <tr>\n",
              "      <th>1</th>\n",
              "      <td>0.8</td>\n",
              "      <td>0.4</td>\n",
              "      <td>0.766078</td>\n",
              "      <td>0.316228</td>\n",
              "      <td>0.618817</td>\n",
              "      <td>0.388716</td>\n",
              "      <td>2.449490</td>\n",
              "      <td>0.3</td>\n",
              "      <td>0.1</td>\n",
              "      <td>0.3</td>\n",
              "      <td>1.0</td>\n",
              "      <td>0.0</td>\n",
              "      <td>0.0</td>\n",
              "      <td>11.0</td>\n",
              "      <td>1</td>\n",
              "      <td>0</td>\n",
              "      <td>0</td>\n",
              "      <td>11</td>\n",
              "      <td>1.0</td>\n",
              "      <td>1</td>\n",
              "      <td>2.0</td>\n",
              "      <td>1</td>\n",
              "      <td>19</td>\n",
              "    </tr>\n",
              "    <tr>\n",
              "      <th>2</th>\n",
              "      <td>0.0</td>\n",
              "      <td>0.0</td>\n",
              "      <td>0.561905</td>\n",
              "      <td>0.316228</td>\n",
              "      <td>0.641586</td>\n",
              "      <td>0.347275</td>\n",
              "      <td>3.316625</td>\n",
              "      <td>0.5</td>\n",
              "      <td>0.7</td>\n",
              "      <td>0.1</td>\n",
              "      <td>4.0</td>\n",
              "      <td>1.0</td>\n",
              "      <td>0.0</td>\n",
              "      <td>7.0</td>\n",
              "      <td>1</td>\n",
              "      <td>0</td>\n",
              "      <td>1</td>\n",
              "      <td>14</td>\n",
              "      <td>1.0</td>\n",
              "      <td>1</td>\n",
              "      <td>2.0</td>\n",
              "      <td>1</td>\n",
              "      <td>60</td>\n",
              "    </tr>\n",
              "    <tr>\n",
              "      <th>3</th>\n",
              "      <td>0.9</td>\n",
              "      <td>0.2</td>\n",
              "      <td>0.580948</td>\n",
              "      <td>0.374166</td>\n",
              "      <td>0.542949</td>\n",
              "      <td>0.294958</td>\n",
              "      <td>2.000000</td>\n",
              "      <td>0.6</td>\n",
              "      <td>0.9</td>\n",
              "      <td>0.1</td>\n",
              "      <td>1.0</td>\n",
              "      <td>0.0</td>\n",
              "      <td>0.0</td>\n",
              "      <td>7.0</td>\n",
              "      <td>1</td>\n",
              "      <td>0</td>\n",
              "      <td>1</td>\n",
              "      <td>11</td>\n",
              "      <td>1.0</td>\n",
              "      <td>1</td>\n",
              "      <td>3.0</td>\n",
              "      <td>1</td>\n",
              "      <td>104</td>\n",
              "    </tr>\n",
              "    <tr>\n",
              "      <th>4</th>\n",
              "      <td>0.7</td>\n",
              "      <td>0.6</td>\n",
              "      <td>0.840759</td>\n",
              "      <td>0.316070</td>\n",
              "      <td>0.565832</td>\n",
              "      <td>0.365103</td>\n",
              "      <td>2.000000</td>\n",
              "      <td>0.4</td>\n",
              "      <td>0.6</td>\n",
              "      <td>0.0</td>\n",
              "      <td>2.0</td>\n",
              "      <td>1.0</td>\n",
              "      <td>0.0</td>\n",
              "      <td>11.0</td>\n",
              "      <td>1</td>\n",
              "      <td>0</td>\n",
              "      <td>1</td>\n",
              "      <td>14</td>\n",
              "      <td>1.0</td>\n",
              "      <td>1</td>\n",
              "      <td>2.0</td>\n",
              "      <td>1</td>\n",
              "      <td>82</td>\n",
              "    </tr>\n",
              "    <tr>\n",
              "      <th>...</th>\n",
              "      <td>...</td>\n",
              "      <td>...</td>\n",
              "      <td>...</td>\n",
              "      <td>...</td>\n",
              "      <td>...</td>\n",
              "      <td>...</td>\n",
              "      <td>...</td>\n",
              "      <td>...</td>\n",
              "      <td>...</td>\n",
              "      <td>...</td>\n",
              "      <td>...</td>\n",
              "      <td>...</td>\n",
              "      <td>...</td>\n",
              "      <td>...</td>\n",
              "      <td>...</td>\n",
              "      <td>...</td>\n",
              "      <td>...</td>\n",
              "      <td>...</td>\n",
              "      <td>...</td>\n",
              "      <td>...</td>\n",
              "      <td>...</td>\n",
              "      <td>...</td>\n",
              "      <td>...</td>\n",
              "    </tr>\n",
              "    <tr>\n",
              "      <th>259819</th>\n",
              "      <td>0.7</td>\n",
              "      <td>0.3</td>\n",
              "      <td>0.564579</td>\n",
              "      <td>0.400000</td>\n",
              "      <td>0.804999</td>\n",
              "      <td>0.321248</td>\n",
              "      <td>3.316625</td>\n",
              "      <td>0.0</td>\n",
              "      <td>0.4</td>\n",
              "      <td>0.1</td>\n",
              "      <td>1.0</td>\n",
              "      <td>1.0</td>\n",
              "      <td>0.0</td>\n",
              "      <td>7.0</td>\n",
              "      <td>1</td>\n",
              "      <td>0</td>\n",
              "      <td>0</td>\n",
              "      <td>1</td>\n",
              "      <td>1.0</td>\n",
              "      <td>1</td>\n",
              "      <td>0.0</td>\n",
              "      <td>1</td>\n",
              "      <td>74</td>\n",
              "    </tr>\n",
              "    <tr>\n",
              "      <th>28030</th>\n",
              "      <td>0.9</td>\n",
              "      <td>0.3</td>\n",
              "      <td>0.718505</td>\n",
              "      <td>0.374166</td>\n",
              "      <td>0.849745</td>\n",
              "      <td>0.321403</td>\n",
              "      <td>3.605551</td>\n",
              "      <td>0.3</td>\n",
              "      <td>0.4</td>\n",
              "      <td>0.0</td>\n",
              "      <td>3.0</td>\n",
              "      <td>0.0</td>\n",
              "      <td>0.0</td>\n",
              "      <td>7.0</td>\n",
              "      <td>1</td>\n",
              "      <td>0</td>\n",
              "      <td>0</td>\n",
              "      <td>11</td>\n",
              "      <td>1.0</td>\n",
              "      <td>1</td>\n",
              "      <td>2.0</td>\n",
              "      <td>1</td>\n",
              "      <td>101</td>\n",
              "    </tr>\n",
              "    <tr>\n",
              "      <th>373576</th>\n",
              "      <td>0.4</td>\n",
              "      <td>0.6</td>\n",
              "      <td>0.828779</td>\n",
              "      <td>0.316228</td>\n",
              "      <td>0.790661</td>\n",
              "      <td>0.329242</td>\n",
              "      <td>3.741657</td>\n",
              "      <td>0.6</td>\n",
              "      <td>0.0</td>\n",
              "      <td>0.7</td>\n",
              "      <td>2.0</td>\n",
              "      <td>1.0</td>\n",
              "      <td>0.0</td>\n",
              "      <td>11.0</td>\n",
              "      <td>1</td>\n",
              "      <td>0</td>\n",
              "      <td>0</td>\n",
              "      <td>14</td>\n",
              "      <td>0.0</td>\n",
              "      <td>0</td>\n",
              "      <td>0.0</td>\n",
              "      <td>1</td>\n",
              "      <td>82</td>\n",
              "    </tr>\n",
              "    <tr>\n",
              "      <th>39259</th>\n",
              "      <td>0.7</td>\n",
              "      <td>0.6</td>\n",
              "      <td>1.216296</td>\n",
              "      <td>0.565685</td>\n",
              "      <td>1.318339</td>\n",
              "      <td>0.518652</td>\n",
              "      <td>3.000000</td>\n",
              "      <td>0.9</td>\n",
              "      <td>0.3</td>\n",
              "      <td>0.6</td>\n",
              "      <td>1.0</td>\n",
              "      <td>0.0</td>\n",
              "      <td>0.0</td>\n",
              "      <td>4.0</td>\n",
              "      <td>0</td>\n",
              "      <td>8</td>\n",
              "      <td>0</td>\n",
              "      <td>13</td>\n",
              "      <td>1.0</td>\n",
              "      <td>1</td>\n",
              "      <td>0.0</td>\n",
              "      <td>1</td>\n",
              "      <td>4</td>\n",
              "    </tr>\n",
              "    <tr>\n",
              "      <th>139515</th>\n",
              "      <td>0.9</td>\n",
              "      <td>1.5</td>\n",
              "      <td>1.644308</td>\n",
              "      <td>0.447214</td>\n",
              "      <td>1.040800</td>\n",
              "      <td>0.398497</td>\n",
              "      <td>3.316625</td>\n",
              "      <td>0.0</td>\n",
              "      <td>0.4</td>\n",
              "      <td>0.8</td>\n",
              "      <td>1.0</td>\n",
              "      <td>0.0</td>\n",
              "      <td>0.0</td>\n",
              "      <td>11.0</td>\n",
              "      <td>1</td>\n",
              "      <td>8</td>\n",
              "      <td>1</td>\n",
              "      <td>13</td>\n",
              "      <td>1.0</td>\n",
              "      <td>1</td>\n",
              "      <td>2.0</td>\n",
              "      <td>1</td>\n",
              "      <td>20</td>\n",
              "    </tr>\n",
              "  </tbody>\n",
              "</table>\n",
              "<p>636915 rows × 23 columns</p>\n",
              "</div>"
            ],
            "text/plain": [
              "        ps_reg_01  ps_reg_02  ...  ps_car_10_cat  ps_car_11_cat\n",
              "0             0.7        0.2  ...              1             12\n",
              "1             0.8        0.4  ...              1             19\n",
              "2             0.0        0.0  ...              1             60\n",
              "3             0.9        0.2  ...              1            104\n",
              "4             0.7        0.6  ...              1             82\n",
              "...           ...        ...  ...            ...            ...\n",
              "259819        0.7        0.3  ...              1             74\n",
              "28030         0.9        0.3  ...              1            101\n",
              "373576        0.4        0.6  ...              1             82\n",
              "39259         0.7        0.6  ...              1              4\n",
              "139515        0.9        1.5  ...              1             20\n",
              "\n",
              "[636915 rows x 23 columns]"
            ]
          },
          "metadata": {},
          "execution_count": 87
        }
      ]
    },
    {
      "cell_type": "code",
      "metadata": {
        "colab": {
          "base_uri": "https://localhost:8080/"
        },
        "id": "lCW-tvFJ6GnW",
        "outputId": "6e5823c7-1a4c-4b53-a3a0-30f6e4e6fbec"
      },
      "source": [
        "for i in int_a_cat: \n",
        "  print(int_a_cat[i].value_counts())\n",
        "  print(min(int_a_cat[i]),max(int_a_cat[i]))\n",
        "  print(len(int_a_cat[i].value_counts()))\n",
        "  print('---')\n"
      ],
      "execution_count": null,
      "outputs": [
        {
          "output_type": "stream",
          "name": "stdout",
          "text": [
            "0.9    209146\n",
            "0.7     73335\n",
            "0.8     64382\n",
            "0.6     60465\n",
            "0.4     57257\n",
            "0.1     45433\n",
            "0.3     42717\n",
            "0.5     34338\n",
            "0.2     26554\n",
            "0.0     23288\n",
            "Name: ps_reg_01, dtype: int64\n",
            "0.0 0.9\n",
            "10\n",
            "---\n",
            "0.2    122093\n",
            "0.3    101913\n",
            "0.0     95114\n",
            "0.4     64148\n",
            "0.5     39407\n",
            "0.6     36224\n",
            "0.1     33381\n",
            "0.7     22890\n",
            "0.8     21589\n",
            "0.9     18288\n",
            "1.2     17103\n",
            "1.0     13549\n",
            "1.3     12691\n",
            "1.1     12207\n",
            "1.4      7328\n",
            "1.5      6131\n",
            "1.6      5440\n",
            "1.8      4862\n",
            "1.7      2557\n",
            "Name: ps_reg_02, dtype: int64\n",
            "0.0 1.8\n",
            "19\n",
            "---\n",
            "0.561905    114136\n",
            "0.633936       736\n",
            "0.602599       688\n",
            "0.587899       666\n",
            "0.596343       657\n",
            "             ...  \n",
            "1.260952         1\n",
            "2.144178         1\n",
            "1.611676         1\n",
            "1.397990         1\n",
            "1.578369         1\n",
            "Name: ps_reg_03, Length: 5005, dtype: int64\n",
            "0.061237244 4.037945022\n",
            "5005\n",
            "---\n",
            "0.316228    180877\n",
            "0.400000    121348\n",
            "0.374166    106583\n",
            "0.424264     54082\n",
            "0.447214     52419\n",
            "             ...  \n",
            "0.704699         1\n",
            "0.496387         1\n",
            "0.818535         1\n",
            "0.479062         1\n",
            "0.581206         1\n",
            "Name: ps_car_12, Length: 177, dtype: int64\n",
            "0.1 1.264911064\n",
            "177\n",
            "---\n",
            "0.674583    411\n",
            "0.692776    389\n",
            "0.741689    385\n",
            "0.659561    367\n",
            "0.749228    357\n",
            "           ... \n",
            "0.553113      1\n",
            "0.812162      1\n",
            "1.169128      1\n",
            "0.763803      1\n",
            "0.500000      1\n",
            "Name: ps_car_13, Length: 68028, dtype: int64\n",
            "0.250619068 3.124222217\n",
            "68028\n",
            "---\n",
            "0.275649    45140\n",
            "0.361525    18964\n",
            "0.358329    16516\n",
            "0.361939    12800\n",
            "0.368782    12355\n",
            "            ...  \n",
            "0.454423        1\n",
            "0.374299        1\n",
            "0.279285        1\n",
            "0.463141        1\n",
            "0.459130        1\n",
            "Name: ps_car_14, Length: 836, dtype: int64\n",
            "0.109544512 0.6363961029999999\n",
            "836\n",
            "---\n",
            "3.605551    117303\n",
            "3.464102     83143\n",
            "3.316625     74329\n",
            "3.162278     68466\n",
            "3.741657     61527\n",
            "2.828427     52126\n",
            "3.000000     52107\n",
            "2.645751     32217\n",
            "2.449490     21665\n",
            "2.236068     20606\n",
            "0.000000     14837\n",
            "2.000000     13507\n",
            "1.732051     11226\n",
            "1.000000      7038\n",
            "1.414214      6818\n",
            "Name: ps_car_15, dtype: int64\n",
            "0.0 3.741657387\n",
            "15\n",
            "---\n",
            "0.5    64093\n",
            "0.0    63949\n",
            "0.6    63848\n",
            "0.7    63797\n",
            "0.8    63753\n",
            "0.3    63641\n",
            "0.2    63606\n",
            "0.1    63565\n",
            "0.4    63397\n",
            "0.9    63266\n",
            "Name: ps_calc_01, dtype: int64\n",
            "0.0 0.9\n",
            "10\n",
            "---\n",
            "0.5    64435\n",
            "0.4    64241\n",
            "0.6    63875\n",
            "0.7    63657\n",
            "0.0    63631\n",
            "0.2    63595\n",
            "0.3    63507\n",
            "0.1    63401\n",
            "0.8    63346\n",
            "0.9    63227\n",
            "Name: ps_calc_02, dtype: int64\n",
            "0.0 0.9\n",
            "10\n",
            "---\n",
            "0.1    64238\n",
            "0.3    64084\n",
            "0.5    63992\n",
            "0.8    63922\n",
            "0.6    63658\n",
            "0.9    63541\n",
            "0.4    63490\n",
            "0.0    63411\n",
            "0.7    63367\n",
            "0.2    63212\n",
            "Name: ps_calc_03, dtype: int64\n",
            "0.0 0.9\n",
            "10\n",
            "---\n",
            "1.0    465176\n",
            "2.0    128852\n",
            "3.0     30423\n",
            "4.0     12464\n",
            "Name: ps_ind_02_cat, dtype: int64\n",
            "1.0 4.0\n",
            "4\n",
            "---\n",
            "0.0    369443\n",
            "1.0    267472\n",
            "Name: ps_ind_04_cat, dtype: int64\n",
            "0.0 1.0\n",
            "2\n",
            "---\n",
            "0.0    567831\n",
            "6.0     23568\n",
            "4.0     20679\n",
            "1.0      9114\n",
            "3.0      9003\n",
            "2.0      4917\n",
            "5.0      1803\n",
            "Name: ps_ind_05_cat, dtype: int64\n",
            "0.0 6.0\n",
            "7\n",
            "---\n",
            "11.0    221397\n",
            "7.0     190014\n",
            "6.0      67047\n",
            "10.0     54280\n",
            "4.0      28636\n",
            "9.0      22029\n",
            "5.0      19474\n",
            "8.0      16484\n",
            "3.0       7158\n",
            "0.0       6560\n",
            "2.0       2338\n",
            "1.0       1498\n",
            "Name: ps_car_01_cat, dtype: int64\n",
            "0.0 11.0\n",
            "12\n",
            "---\n",
            "1    530548\n",
            "0    106367\n",
            "Name: ps_car_02_cat, dtype: int64\n",
            "0 1\n",
            "2\n",
            "---\n",
            "0    533157\n",
            "1     33894\n",
            "2     26501\n",
            "8     22239\n",
            "9     17786\n",
            "6      1779\n",
            "3       728\n",
            "5       417\n",
            "4       242\n",
            "7       172\n",
            "Name: ps_car_04_cat, dtype: int64\n",
            "0 9\n",
            "10\n",
            "---\n",
            "1    325558\n",
            "0    311357\n",
            "Name: ps_car_05_cat, dtype: int64\n",
            "0 1\n",
            "2\n",
            "---\n",
            "11    140357\n",
            "1     127483\n",
            "0     118029\n",
            "14     63084\n",
            "10     36761\n",
            "4      33501\n",
            "15     23694\n",
            "6      22650\n",
            "9      19388\n",
            "7      17566\n",
            "3      13029\n",
            "13      6660\n",
            "16      4868\n",
            "17      4326\n",
            "12      2657\n",
            "5       1211\n",
            "2        834\n",
            "8        817\n",
            "Name: ps_car_06_cat, dtype: int64\n",
            "0 17\n",
            "18\n",
            "---\n",
            "1.0    602334\n",
            "0.0     34581\n",
            "Name: ps_car_07_cat, dtype: int64\n",
            "0.0 1.0\n",
            "2\n",
            "---\n",
            "1    531084\n",
            "0    105831\n",
            "Name: ps_car_08_cat, dtype: int64\n",
            "0 1\n",
            "2\n",
            "---\n",
            "2.0    376735\n",
            "0.0    210053\n",
            "1.0     31412\n",
            "3.0     15546\n",
            "4.0      3169\n",
            "Name: ps_car_09_cat, dtype: int64\n",
            "0.0 4.0\n",
            "5\n",
            "---\n",
            "1    631460\n",
            "0      5261\n",
            "2       194\n",
            "Name: ps_car_10_cat, dtype: int64\n",
            "0 2\n",
            "3\n",
            "---\n",
            "104    88419\n",
            "103    25235\n",
            "64     23626\n",
            "87     18226\n",
            "5      13834\n",
            "       ...  \n",
            "35      1562\n",
            "56      1471\n",
            "58      1320\n",
            "63      1265\n",
            "18      1145\n",
            "Name: ps_car_11_cat, Length: 104, dtype: int64\n",
            "1 104\n",
            "104\n",
            "---\n"
          ]
        }
      ]
    },
    {
      "cell_type": "code",
      "metadata": {
        "colab": {
          "base_uri": "https://localhost:8080/",
          "height": 369
        },
        "id": "HY8lsTCyOj7i",
        "outputId": "2be79585-4345-49d7-e9b2-d71aebb0595a"
      },
      "source": [
        "plt.hist(new_data.ps_car_13,color='red')"
      ],
      "execution_count": null,
      "outputs": [
        {
          "output_type": "execute_result",
          "data": {
            "text/plain": [
              "(array([2.90080e+04, 3.63851e+05, 1.90479e+05, 4.26980e+04, 9.23400e+03,\n",
              "        1.33000e+03, 2.50000e+02, 5.90000e+01, 4.00000e+00, 2.00000e+00]),\n",
              " array([0.25061907, 0.53797938, 0.8253397 , 1.11270001, 1.40006033,\n",
              "        1.68742064, 1.97478096, 2.26214127, 2.54950159, 2.8368619 ,\n",
              "        3.12422222]),\n",
              " <a list of 10 Patch objects>)"
            ]
          },
          "metadata": {},
          "execution_count": 89
        },
        {
          "output_type": "display_data",
          "data": {
            "image/png": "[encoded data removed]",
            "text/plain": [
              "<Figure size 432x288 with 1 Axes>"
            ]
          },
          "metadata": {
            "needs_background": "light"
          }
        }
      ]
    },
    {
      "cell_type": "markdown",
      "metadata": {
        "id": "VAzcYPK19xPZ"
      },
      "source": [
        "ps_car_13 the most column that is suitable for StandardScaler"
      ]
    },
    {
      "cell_type": "markdown",
      "metadata": {
        "id": "Wz5layVE8M1V"
      },
      "source": [
        "### Summary"
      ]
    },
    {
      "cell_type": "markdown",
      "metadata": {
        "id": "OYLiq3zWTBOQ"
      },
      "source": [
        "\n",
        "We have 57 features, all of them are integer  except 10 of them are float . the target  considered as binary classification meaning that it has two values, either 0 or 1 . The features are classified into four main classes {ind, reg, car, calc} . The Bin class has the most features with 20 features  and the least of them is the reg with 3 features. In addition, the features of the Binary type have a value of zero more than one, while the features of the Ordinal type have at least 4 classes.\n",
        "The dataset is unbalanced in target and in order to make it balanced by 12%, we need to make 0 = 573518 while 1 = 78207. the (ps_car_13) feature being the most closely related to target column.\n"
      ]
    },
    {
      "cell_type": "markdown",
      "metadata": {
        "id": "uhPe5Mmv8LFy"
      },
      "source": [
        "## Modeling "
      ]
    },
    {
      "cell_type": "markdown",
      "metadata": {
        "id": "FN21iKHTDhnf"
      },
      "source": [
        "### Features enginering "
      ]
    },
    {
      "cell_type": "markdown",
      "metadata": {
        "id": "BNv5MPvvOic7"
      },
      "source": [
        "now let's train data with Machine learning algorthms .\n",
        "but before do that We will reduce the number of features "
      ]
    },
    {
      "cell_type": "code",
      "metadata": {
        "id": "lctvQ0jvOfLM"
      },
      "source": [
        "clean_data=new_data.drop(['id','target'],axis=1)\n",
        "target=new_data.target"
      ],
      "execution_count": null,
      "outputs": []
    },
    {
      "cell_type": "code",
      "metadata": {
        "colab": {
          "base_uri": "https://localhost:8080/"
        },
        "id": "vdEMTcSSIhGb",
        "outputId": "cff2c3b1-fa91-4ce6-b4fb-c11e767791b2"
      },
      "source": [
        "selector = VarianceThreshold(threshold=0.01)\n",
        "selector.fit(clean_data) \n",
        "\n",
        "f = np.vectorize(lambda x : not x) # Function to toggle boolean_array elements\n",
        "v = clean_data.columns[f(selector.get_support())]\n",
        "print(f'{len(v)} variables have too low variance.')\n",
        "print(f'These variables are {list(v)}')\n"
      ],
      "execution_count": null,
      "outputs": [
        {
          "output_type": "stream",
          "name": "stdout",
          "text": [
            "7 variables have too low variance.\n",
            "These variables are ['ps_ind_10_bin', 'ps_ind_11_bin', 'ps_ind_12_bin', 'ps_ind_13_bin', 'ps_car_10_cat', 'ps_car_12', 'ps_car_14']\n"
          ]
        }
      ]
    },
    {
      "cell_type": "code",
      "metadata": {
        "id": "vSC3AGPukrw7"
      },
      "source": [
        "clean_data.drop(list(v),axis=1,inplace=True)"
      ],
      "execution_count": null,
      "outputs": []
    },
    {
      "cell_type": "code",
      "metadata": {
        "id": "gZuo8gEu4bpp"
      },
      "source": [
        "X_train,X_test,y_train,y_test=train_test_split(clean_data,target,test_size=.2)"
      ],
      "execution_count": null,
      "outputs": []
    },
    {
      "cell_type": "code",
      "metadata": {
        "id": "U87qVUcLBOqU"
      },
      "source": [
        "StandardSC=StandardScaler()\n",
        "StandardSC.fit(X_train)\n",
        "X_train=StandardSC.transform(X_train)\n",
        "X_test=StandardSC.transform(X_test)"
      ],
      "execution_count": null,
      "outputs": []
    },
    {
      "cell_type": "markdown",
      "metadata": {
        "id": "ZvD8JPvpDsR-"
      },
      "source": [
        "### Logistic Regression model"
      ]
    },
    {
      "cell_type": "code",
      "metadata": {
        "id": "Da2zGmO62BZ0",
        "colab": {
          "base_uri": "https://localhost:8080/"
        },
        "outputId": "a6eea30e-0f99-4eff-9517-cfef104b8564"
      },
      "source": [
        "model=LogisticRegressionCV()\n",
        "model.fit(X_train,y_train)\n",
        "pred=model.predict(X_test)\n",
        "\n",
        "print(classification_report(y_test,pred))\n",
        "print('accuracy score : ',accuracy_score(y_test,pred))\n",
        "print(confusion_matrix(y_test,pred))"
      ],
      "execution_count": null,
      "outputs": [
        {
          "output_type": "stream",
          "name": "stdout",
          "text": [
            "              precision    recall  f1-score   support\n",
            "\n",
            "           0       0.88      1.00      0.94    112327\n",
            "           1       0.00      0.00      0.00     15056\n",
            "\n",
            "    accuracy                           0.88    127383\n",
            "   macro avg       0.44      0.50      0.47    127383\n",
            "weighted avg       0.78      0.88      0.83    127383\n",
            "\n",
            "accuracy score :  0.8817974140976426\n",
            "[[112326      1]\n",
            " [ 15056      0]]\n"
          ]
        }
      ]
    },
    {
      "cell_type": "markdown",
      "metadata": {
        "id": "psla4fCeqOiY"
      },
      "source": [
        "we got a good value in accurace but what is the problem here ? the problem in f1-score for 1 we got 0 and that because our data is imbleanced and recall with precision is 0 .<br>\n",
        "so let's add some modification for the model"
      ]
    },
    {
      "cell_type": "code",
      "metadata": {
        "colab": {
          "base_uri": "https://localhost:8080/"
        },
        "id": "rDUrtkpunPUr",
        "outputId": "19ce4d46-00a6-4d9f-bfd0-d0dcac015b91"
      },
      "source": [
        "# make data is blanced with 50% for each class \n",
        "df_class_0 = data[data['target'] == 0]\n",
        "df_class_1 = data[data['target'] == 1]\n",
        "\n",
        "count_class_0=len(df_class_0)\n",
        "count_class_1=len(df_class_1)\n",
        "\n",
        "\n",
        "df_class_1_over = df_class_1.sample(count_class_0, replace=True)\n",
        "df_test_over = pd.concat([df_class_0, df_class_1_over], axis=0)\n",
        "\n",
        "data_f_blanced_data = df_test_over.drop(list(v),axis=1)\n",
        "target_f_blanced_data = data_f_blanced_data.target\n",
        "data_f_blanced_data =data_f_blanced_data.drop(['id','target'],axis=1)\n",
        "\n",
        "X_train_b,X_test_b,y_train_b,y_test_b=train_test_split(data_f_blanced_data, target_f_blanced_data,test_size=.2)\n",
        "\n",
        "model=LogisticRegressionCV()\n",
        "\n",
        "model.fit(X_train_b,y_train_b)\n",
        "y_pred_b=model.predict(X_test_b)\n",
        "\n",
        "print(classification_report(y_test_b,y_pred_b))\n",
        "print('accuracy score : ',accuracy_score(y_test_b,y_pred_b))\n",
        "print(confusion_matrix(y_test_b,y_pred_b))"
      ],
      "execution_count": null,
      "outputs": [
        {
          "output_type": "stream",
          "name": "stdout",
          "text": [
            "              precision    recall  f1-score   support\n",
            "\n",
            "           0       0.58      0.63      0.60    114729\n",
            "           1       0.59      0.55      0.57    114679\n",
            "\n",
            "    accuracy                           0.59    229408\n",
            "   macro avg       0.59      0.59      0.59    229408\n",
            "weighted avg       0.59      0.59      0.59    229408\n",
            "\n",
            "accuracy score :  0.5876168224299065\n",
            "[[71745 42984]\n",
            " [51620 63059]]\n"
          ]
        }
      ]
    },
    {
      "cell_type": "markdown",
      "metadata": {
        "id": "hmED6Jwbxyuw"
      },
      "source": [
        "now f1-score is more better after data become balanced but the accuracy decreased a lot"
      ]
    },
    {
      "cell_type": "markdown",
      "metadata": {
        "id": "8KfI3UykEfdJ"
      },
      "source": [
        "### LinearSVC model"
      ]
    },
    {
      "cell_type": "code",
      "metadata": {
        "colab": {
          "base_uri": "https://localhost:8080/"
        },
        "id": "r7jaQj5y7oay",
        "outputId": "117e24cb-6fd7-4264-fae8-903aec45f61f"
      },
      "source": [
        "LSVC=LinearSVC(max_iter=1200,dual=True)\n",
        "LSVC.fit(X_train,y_train)\n",
        "y_pred_lsvc=LSVC.predict(X_test)\n",
        "\n",
        "print(classification_report(y_test,y_pred_lsvc))\n",
        "print('accuracy score : ',accuracy_score(y_test,y_pred_lsvc))\n",
        "print(confusion_matrix(y_test,y_pred_lsvc))"
      ],
      "execution_count": null,
      "outputs": [
        {
          "output_type": "stream",
          "name": "stdout",
          "text": [
            "              precision    recall  f1-score   support\n",
            "\n",
            "           0       0.88      1.00      0.94    112327\n",
            "           1       0.00      0.00      0.00     15056\n",
            "\n",
            "    accuracy                           0.88    127383\n",
            "   macro avg       0.44      0.50      0.47    127383\n",
            "weighted avg       0.78      0.88      0.83    127383\n",
            "\n",
            "accuracy score :  0.8818052644387399\n",
            "[[112327      0]\n",
            " [ 15056      0]]\n"
          ]
        }
      ]
    },
    {
      "cell_type": "markdown",
      "metadata": {
        "id": "h31dyddV5tlS"
      },
      "source": [
        "There are no improvements"
      ]
    },
    {
      "cell_type": "markdown",
      "metadata": {
        "id": "q6I682xtEnPc"
      },
      "source": [
        "### SVC model"
      ]
    },
    {
      "cell_type": "code",
      "metadata": {
        "colab": {
          "base_uri": "https://localhost:8080/"
        },
        "id": "MEi03mzgBoHw",
        "outputId": "5c5090ba-47d0-4c86-8079-200b89e7cb58"
      },
      "source": [
        "x_tr=X_train_b[:70000]\n",
        "y_tr=y_train_b[:70000]\n",
        "\n",
        "clf = SVC(kernel='linear')\n",
        "clf.fit(x_tr, y_tr)\n",
        "\n",
        "y_pred_svc = clf.predict(X_test_b)\n",
        "print(classification_report(y_test_b,y_pred_svc))\n",
        "print('accuracy score : ',accuracy_score(y_test_b,y_pred_svc))\n",
        "print(confusion_matrix(y_test_b,y_pred_svc))"
      ],
      "execution_count": null,
      "outputs": [
        {
          "output_type": "stream",
          "name": "stdout",
          "text": [
            "              precision    recall  f1-score   support\n",
            "\n",
            "           0       0.57      0.69      0.62    114729\n",
            "           1       0.60      0.47      0.53    114679\n",
            "\n",
            "    accuracy                           0.58    229408\n",
            "   macro avg       0.59      0.58      0.58    229408\n",
            "weighted avg       0.59      0.58      0.58    229408\n",
            "\n",
            "accuracy score :  0.5811174850048821\n",
            "[[79550 35179]\n",
            " [60916 53763]]\n"
          ]
        }
      ]
    },
    {
      "cell_type": "markdown",
      "metadata": {
        "id": "cKQf3aKnEp1K"
      },
      "source": [
        "### XGBoost model"
      ]
    },
    {
      "cell_type": "code",
      "metadata": {
        "colab": {
          "base_uri": "https://localhost:8080/"
        },
        "id": "B4C-tRbhkv6t",
        "outputId": "7274c830-9edc-48f5-e48d-1598bcc742cf"
      },
      "source": [
        "xg_cls = XGBClassifier(objective='binary:logistic', colsample_bytree = 0.3, learning_rate = 0.1,max_depth = 50, alpha = 10, n_estimators = 100)\n",
        "xg_cls.fit(X_train, y_train)\n",
        "y_pred_xgb = xg_cls.predict(X_test)\n",
        "\n",
        "print(classification_report(y_test,y_pred_xgb))\n",
        "print('accuracy score : ',accuracy_score(y_test,y_pred_xgb))\n",
        "print(confusion_matrix(y_test,y_pred_xgb))"
      ],
      "execution_count": null,
      "outputs": [
        {
          "output_type": "stream",
          "name": "stdout",
          "text": [
            "              precision    recall  f1-score   support\n",
            "\n",
            "           0       0.99      1.00      1.00    112327\n",
            "           1       1.00      0.94      0.97     15056\n",
            "\n",
            "    accuracy                           0.99    127383\n",
            "   macro avg       1.00      0.97      0.98    127383\n",
            "weighted avg       0.99      0.99      0.99    127383\n",
            "\n",
            "accuracy score :  0.9930681488110659\n",
            "[[112327      0]\n",
            " [   883  14173]]\n"
          ]
        }
      ]
    },
    {
      "cell_type": "markdown",
      "metadata": {
        "id": "jEDCc5WrE1Y7"
      },
      "source": [
        "in this case this is the best value for accuracy & f1-score"
      ]
    },
    {
      "cell_type": "code",
      "metadata": {
        "colab": {
          "base_uri": "https://localhost:8080/"
        },
        "id": "gI-60KB9q70s",
        "outputId": "3d56f164-b488-4a69-8e87-37567d218b50"
      },
      "source": [
        "# enc=OneHotEncoder()\n",
        "# data_enc=enc.fit_transform(clean_data)\n",
        "# data_enc.shape[0]*.80,data_enc.shape[0]\n",
        "\n",
        "X_train_enc,X_test_enc=data_enc[:509532],data_enc[509532:]\n",
        "\n",
        "xg_cls.fit(X_train_enc, y_train)\n",
        "y_pred_xgb_enc = xg_cls.predict(X_test_enc)\n",
        "\n",
        "print(classification_report(y_test,y_pred_xgb_enc))\n",
        "print('accuracy score : ',accuracy_score(y_test,y_pred_xgb_enc))\n",
        "print(confusion_matrix(y_test,y_pred_xgb_enc))"
      ],
      "execution_count": null,
      "outputs": [
        {
          "output_type": "stream",
          "name": "stdout",
          "text": [
            "              precision    recall  f1-score   support\n",
            "\n",
            "           0       0.88      1.00      0.94    112327\n",
            "           1       0.00      0.00      0.00     15056\n",
            "\n",
            "    accuracy                           0.88    127383\n",
            "   macro avg       0.44      0.50      0.47    127383\n",
            "weighted avg       0.78      0.88      0.83    127383\n",
            "\n",
            "accuracy score :  0.8817974140976426\n",
            "[[112326      1]\n",
            " [ 15056      0]]\n"
          ]
        }
      ]
    },
    {
      "cell_type": "markdown",
      "metadata": {
        "id": "VNM96hW-6y3h"
      },
      "source": [
        "we didn't need using one hot encoder because already data is encoded but still using this technique make it prediction worse"
      ]
    },
    {
      "cell_type": "markdown",
      "metadata": {
        "id": "SIF85JN27nsc"
      },
      "source": [
        "Q. If not missing a positive sample is the priority which model is best so far?\n",
        " - LinearSVC & xgboost -> Count of missing positive sample is nothing [0].<br>\n",
        "\n",
        "Q. If not marking negative sample as positive is top priority, which model is best so far?\n",
        "\n",
        "- xgboost -> Count of misclassification for negative sample as positive is 883 . \n"
      ]
    },
    {
      "cell_type": "markdown",
      "metadata": {
        "id": "SKcBRUo2E4WZ"
      },
      "source": [
        "### AdaBoost Model"
      ]
    },
    {
      "cell_type": "code",
      "metadata": {
        "colab": {
          "base_uri": "https://localhost:8080/"
        },
        "id": "fYbm5oDMs9Wm",
        "outputId": "135693f4-c1c0-46a0-d82f-86680cb495fd"
      },
      "source": [
        "adaBoost = AdaBoostClassifier(n_estimators=50, learning_rate=1, random_state=0)\n",
        "ada = adaBoost.fit(X_train, y_train)\n",
        "y_pred_ada = ada.predict(X_test)\n",
        "\n",
        "print(classification_report(y_test,y_pred_ada))\n",
        "print('accuracy score : ',accuracy_score(y_test,y_pred_ada))\n",
        "print(confusion_matrix(y_test,y_pred_ada))\n"
      ],
      "execution_count": null,
      "outputs": [
        {
          "output_type": "stream",
          "name": "stdout",
          "text": [
            "              precision    recall  f1-score   support\n",
            "\n",
            "           0       0.88      1.00      0.94    112327\n",
            "           1       0.00      0.00      0.00     15056\n",
            "\n",
            "    accuracy                           0.88    127383\n",
            "   macro avg       0.44      0.50      0.47    127383\n",
            "weighted avg       0.78      0.88      0.83    127383\n",
            "\n",
            "accuracy score :  0.8817738630743506\n",
            "[[112323      4]\n",
            " [ 15056      0]]\n"
          ]
        }
      ]
    },
    {
      "cell_type": "markdown",
      "metadata": {
        "id": "ojEjOuEF926S"
      },
      "source": [
        "No improvement in AdaBoost model."
      ]
    },
    {
      "cell_type": "markdown",
      "metadata": {
        "id": "bYERYi7BE8ap"
      },
      "source": [
        "### MLP model"
      ]
    },
    {
      "cell_type": "markdown",
      "metadata": {
        "id": "lPyYOtRR-LEJ"
      },
      "source": [
        "MLP classifier is neural network model and to choose the right no. of layers\n",
        "and size there is some of methods help us to choose the correct number : \n",
        "- The no. of hidden neurons should be between the size of the input layer and the size of the output layer.\n",
        "- The no. of hidden neurons should be 2/3 the size of the input layer, plus the size of the output layer.\n",
        "- The no. of hidden neurons should be less than twice the size of the input layer."
      ]
    },
    {
      "cell_type": "code",
      "metadata": {
        "colab": {
          "base_uri": "https://localhost:8080/"
        },
        "id": "5mZA-82RtwNt",
        "outputId": "76cb3768-989d-4541-9f30-9352814f24a3"
      },
      "source": [
        "mlp = MLPClassifier(hidden_layer_sizes=(10, 10, 10),activation='logistic', max_iter=200)\n",
        "mlp.fit(X_train, y_train.values.ravel())\n",
        "y_pred_mlp = mlp.predict(X_test)\n",
        "\n",
        "print(classification_report(y_test,y_pred_mlp))\n",
        "print('accuracy score : ',accuracy_score(y_test,y_pred_mlp))\n",
        "print(confusion_matrix(y_test,y_pred_mlp))\n"
      ],
      "execution_count": null,
      "outputs": [
        {
          "output_type": "stream",
          "name": "stdout",
          "text": [
            "              precision    recall  f1-score   support\n",
            "\n",
            "           0       0.88      1.00      0.94    112327\n",
            "           1       0.00      0.00      0.00     15056\n",
            "\n",
            "    accuracy                           0.88    127383\n",
            "   macro avg       0.44      0.50      0.47    127383\n",
            "weighted avg       0.78      0.88      0.83    127383\n",
            "\n",
            "accuracy score :  0.8818052644387399\n",
            "[[112327      0]\n",
            " [ 15056      0]]\n"
          ]
        }
      ]
    },
    {
      "cell_type": "markdown",
      "metadata": {
        "id": "SwkOlIX8GH42"
      },
      "source": [
        "finally, the model that more appropriate for our data is: **Xgboost Classifier** ."
      ]
    }
  ]
}